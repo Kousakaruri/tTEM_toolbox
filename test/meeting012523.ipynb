{
 "cells": [
  {
   "cell_type": "code",
   "execution_count": 1,
   "metadata": {
    "collapsed": true
   },
   "outputs": [
    {
     "data": {
      "text/html": "        <script type=\"text/javascript\">\n        window.PlotlyConfig = {MathJaxConfig: 'local'};\n        if (window.MathJax && window.MathJax.Hub && window.MathJax.Hub.Config) {window.MathJax.Hub.Config({SVG: {font: \"STIX-Web\"}});}\n        if (typeof require !== 'undefined') {\n        require.undef(\"plotly\");\n        requirejs.config({\n            paths: {\n                'plotly': ['https://cdn.plot.ly/plotly-2.14.0.min']\n            }\n        });\n        require(['plotly'], function(Plotly) {\n            window._Plotly = Plotly;\n        });\n        }\n        </script>\n        "
     },
     "metadata": {},
     "output_type": "display_data"
    }
   ],
   "source": [
    "from pathlib import Path\n",
    "import numpy as np\n",
    "import pandas as pd\n",
    "import tTEM_toolbox as tt\n",
    "import plotly.graph_objects as go\n",
    "import plotly.express as px\n",
    "from plotly.offline import init_notebook_mode\n",
    "init_notebook_mode(connected = True)\n",
    "import plotly.io as pio\n",
    "pio.renderers.default = \"browser\"\n",
    "pio.kaleido.scope.chromium_args = tuple([arg for arg in pio.kaleido.scope.chromium_args if arg != \"--disable-dev-shm-usage\"])\n",
    "workdir = Path(r'C:\\Users\\jldz9\\OneDrive - University of Missouri\\MST\\Code\\Python\\tTEM_test')\n",
    "welllog = workdir.joinpath(r'Plot_with_well_log\\Well_log.xlsx')\n",
    "elevation = workdir.joinpath(r'well_Utah\\usgs_water_elevation.csv')\n",
    "ttemname_north = workdir.joinpath(r'Plot_with_well_log\\PD1_I01_MOD.xyz')\n",
    "ttemname_center = workdir.joinpath(r'Plot_with_well_log\\PD22_I03_MOD.xyz')\n",
    "ttem_lslake = workdir.joinpath(r'Plot_with_well_log\\lsll_I05_MOD.xyz')\n",
    "DOI = workdir.joinpath(r'Plot_with_well_log\\DOID1_DOIStaE.xyz')\n",
    "well_info = workdir.joinpath(r'well_Utah\\USGSdownload\\NWISMapperExport.xlsx')\n",
    "colorRes = [[0, 'rgb(0,0,190)'],\n",
    "            [1 / 16, 'rgb(0,75,220)'],\n",
    "            [2 / 16, 'rgb(0,150,235)'],\n",
    "            [3 / 16, 'rgb(0,200,255)'],\n",
    "            [4 / 16, 'rgb(80,240,255)'],\n",
    "            [5 / 16, 'rgb(30,210,0)'],\n",
    "            [6 / 16, 'rgb(180,255,30)'],\n",
    "            [7 / 16, 'rgb(255,255,0)'],\n",
    "            [8 / 16, 'rgb(255,195,0)'],\n",
    "            [9 / 16, 'rgb(255,115,0)'],\n",
    "            [10 / 16, 'rgb(255,0,0)'],\n",
    "            [11 / 16, 'rgb(255,0,120)'],\n",
    "            [12 / 16, 'rgb(140,40,180)'],\n",
    "            [13 / 16, 'rgb(165,70,220)'],\n",
    "            [14 / 16, 'rgb(195,130,240)'],\n",
    "            [15 / 16, 'rgb(230,155,240)'],\n",
    "            [1, 'rgb(230,155,255)']]\n",
    "def distance_of_two_points(x1:float,y1:float,x2:float,y2:float):\n",
    "    distance = np.sqrt((x1-x2)**2+(y1-y2)**2)\n",
    "    return distance\n",
    "def split_ttem(ttem_df, gwsurface_result):\n",
    "    def get_distance(group1, group2):\n",
    "        dis = np.sqrt((group1[0] - group2[0]) ** 2 + (group1[1] - group2[1]) ** 2)\n",
    "        return dis\n",
    "    abv_water_table = []\n",
    "    blw_water_table = []\n",
    "    ttem_groups = ttem_df.groupby(['UTMX', 'UTMY'])\n",
    "    well_location = gwsurface_result[['UTMX', 'UTMY']].values\n",
    "    for name, group in ttem_groups:\n",
    "        ttem_xy = list(group[['UTMX', 'UTMY']].iloc[0])\n",
    "        ttem_well_distance = list(map(lambda x: get_distance(ttem_xy, x), well_location))\n",
    "        match = gwsurface_result.iloc[ttem_well_distance.index(min(ttem_well_distance))]\n",
    "        elevation = match['water_elevation']\n",
    "        ttem_abv = group[group['Elevation_End'] >= elevation]\n",
    "        abv_water_table.append(ttem_abv)\n",
    "        ttem_blw = group[group['Elevation_End'] < elevation]\n",
    "        blw_water_table.append(ttem_blw)\n",
    "\n",
    "    ttem_above = pd.concat(abv_water_table)\n",
    "    ttem_below = pd.concat(blw_water_table)\n",
    "    return ttem_above, ttem_below\n",
    "def plot_bootstrap_result(dataframe):\n",
    "    \"\"\"\n",
    "    plot bootstrap result\n",
    "\n",
    "    :param dataframe:\n",
    "    :return: plotly fig\n",
    "    \"\"\"\n",
    "    fig_hist = go.Figure()\n",
    "    fig_hist.data = []\n",
    "    fig_hist.add_trace(go.Histogram(x=dataframe.fine, name='Fine', marker_color='Blue', opacity=0.75))\n",
    "    fig_hist.add_trace(go.Histogram(x=dataframe.coarse, name='Coarse', marker_color='Red', opacity=0.75))\n",
    "    if dataframe.mix.sum() == 0:\n",
    "        print(\"skip plot mix because there is no data\")\n",
    "    else:\n",
    "        fig_hist.add_trace(go.Histogram(x=dataframe.mix, name='Mix', marker_color='Green', opacity=0.75))\n",
    "    fig_hist.update_layout(paper_bgcolor='white',plot_bgcolor='white',font_color='black')\n",
    "\n",
    "    return fig_hist\n",
    "def data_fence(ttem_df,xmin,ymin,xmax,ymax):\n",
    "    if xmin>xmax:\n",
    "        raise ValueError('xmin:{} is greater than xmax:{}'.format(xmin,xmax))\n",
    "    if ymin>ymax:\n",
    "        raise ValueError('ymin:{} is greater than ymax:{}'.format(xmin,xmax))\n",
    "    new_ttem_df = ttem_df[(ttem_df['UTMX']>xmin)&(ttem_df['UTMX']<xmax)&(ttem_df['UTMY']>ymin)&(ttem_df['UTMY']<ymax)]\n",
    "    return new_ttem_df\n",
    "def filter_line(ttem_df, line_filter):\n",
    "        ttem_preprocess_line = ttem_df[ttem_df['Line_No'] == int(line_filter)]\n",
    "        if ttem_preprocess_line.empty:\n",
    "            raise ValueError('Did not found any data under line_no {}, the line number suppose to be integer'.format(line_filter))\n",
    "        return ttem_preprocess_line\n",
    "def resistivity_avg(ttem_df):\n",
    "    new_1d_df = []\n",
    "    coordinate_group = ttem_df.groupby(['UTMX','UTMY'])\n",
    "    for name, group in coordinate_group:\n",
    "        mean_resistivity = group['Resistivity'].mean()\n",
    "        output_df = {'UTMX':name[0],'UTMY':name[1],'Mean_Resistivity':mean_resistivity}\n",
    "        tmp_df = pd.DataFrame([output_df],index=None)\n",
    "        new_1d_df.append(tmp_df)\n",
    "    export_df = pd.concat(new_1d_df)\n",
    "    return  export_df\n",
    "def lithology_pct(rock_transform_df):\n",
    "    \"\"\"\n",
    "    # Plan to group by the coordinate and generate a new dataframe with only [UTMX, UTMY]\n",
    "    \"\"\"\n",
    "    new_1d_df = []\n",
    "    coordinate_group = rock_transform_df.groupby(['UTMX','UTMY'])\n",
    "    for name, group in coordinate_group:\n",
    "        total_thickness_for_point = sum(group['Thickness'])\n",
    "        lithology_group = group.groupby('Identity')\n",
    "        try:\n",
    "            fine_grain_thickness = lithology_group.get_group('Fine_grain')['Thickness'].sum()\n",
    "        except KeyError:\n",
    "            fine_grain_thickness = 0\n",
    "        try:\n",
    "            mixed_grain_thickness = lithology_group.get_group('Mix_grain')['Thickness'].sum()\n",
    "        except KeyError:\n",
    "            mixed_grain_thickness = 0\n",
    "        try:\n",
    "            coarse_grain_thickness = lithology_group.get_group('Coarse_grain')['Thickness'].sum()\n",
    "        except KeyError:\n",
    "            coarse_grain_thickness = 0\n",
    "        tmp_df = pd.DataFrame([{'UTMX':name[0],\n",
    "                  'UTMY':name[1],\n",
    "                  'Fine grained ratio':fine_grain_thickness/float(total_thickness_for_point),\n",
    "                  'mixed_grain_thickness':mixed_grain_thickness/float(total_thickness_for_point),\n",
    "                  'coarse_grain_thickness':coarse_grain_thickness/float(total_thickness_for_point)}])\n",
    "\n",
    "        new_1d_df.append(tmp_df)\n",
    "    export = pd.concat(new_1d_df)\n",
    "    return export\n",
    "def block_plot(ttem_df, line_filter=None, fence=None, plot_ft=True):\n",
    "\n",
    "    \"\"\"\n",
    "    This is the function that plot the given dataframe into gridded plot (for better looking)\n",
    "\n",
    "    :param DataFrame ttem_df: a data frame contains tTEM data exported from Aarhus workbench\n",
    "    :param int line_filter: In tTEM dataframe you can filter tTEM data by Line_No (default: None)\n",
    "    :param list fence: receive a UTM coordinate to cut data, ex: [xmin, ymin, xmax, ymax] (default: None)\n",
    "    :param plot_ft: True: plot all parameter in feet, False: plot in meter (default: True)\n",
    "    :return:\n",
    "        - fig - plotly fig of the block_plot\n",
    "        - ttem_for_plot - the tTEM dataframe use for plot\n",
    "        - empty_grid - the grid use to plot the figure\n",
    "    \"\"\"\n",
    "    if line_filter is not None and fence is not None:\n",
    "        ttem_preprocess_line = filter_line(ttem_df,line_filter)\n",
    "        ttem_preprocess_fence = data_fence(ttem_preprocess_line,fence[0],fence[1],fence[2],fence[3])\n",
    "        ttem_preprocessed = ttem_preprocess_fence.copy()\n",
    "    elif line_filter is not None:\n",
    "        ttem_preprocess_line = filter_line(ttem_df,line_filter)\n",
    "        ttem_preprocessed = ttem_preprocess_line.copy()\n",
    "    elif fence is not None:\n",
    "        ttem_preprocess_fence = data_fence(ttem_df,fence[0],fence[1],fence[2],fence[3])\n",
    "        ttem_preprocessed = ttem_preprocess_fence.copy()\n",
    "    else:\n",
    "        ttem_preprocessed = ttem_df\n",
    "    if plot_ft is True:\n",
    "        m_to_ft_factor = 3.28\n",
    "        unit = 'ft'\n",
    "    else:\n",
    "        m_to_ft_factor = 1\n",
    "        unit = 'm'\n",
    "    distance=0\n",
    "    ttem_coordinate_group = ttem_preprocessed.groupby(['UTMX','UTMY'])\n",
    "    for i in range(1,len(list(ttem_coordinate_group.groups.keys()))):\n",
    "        tmp =distance_of_two_points(list(ttem_coordinate_group.groups.keys())[i-1][0],\n",
    "                                     list(ttem_coordinate_group.groups.keys())[i-1][1],\n",
    "                                     list(ttem_coordinate_group.groups.keys())[i][0],\n",
    "                                     list(ttem_coordinate_group.groups.keys())[i][1])\n",
    "        distance=distance+tmp\n",
    "    distance_range = int(distance*m_to_ft_factor)\n",
    "    ttem_preprocessed['Elevation_Cell'] = ttem_preprocessed['Elevation_Cell']*m_to_ft_factor\n",
    "    ttem_preprocessed['Elevation_End'] = ttem_preprocessed['Elevation_End']*m_to_ft_factor\n",
    "    elevation_max = ttem_preprocessed['Elevation_Cell'].max()\n",
    "\n",
    "    elevation_end_min = ttem_preprocessed['Elevation_End'].min()\n",
    "\n",
    "    elevation_range = int(elevation_max-elevation_end_min)\n",
    "    print('elevation_range',elevation_max,elevation_end_min,elevation_range)\n",
    "    ttem_preprocessed['Elevation_Cell_for_plot'] = abs(ttem_preprocessed['Elevation_Cell'] - elevation_max)\n",
    "    ttem_preprocessed['Elevation_End_for_plot'] = abs(ttem_preprocessed['Elevation_End']-ttem_preprocessed['Elevation_End'].max())\n",
    "    y_distance = elevation_range\n",
    "    x_distance = distance_range/10\n",
    "    empty_grid = np.full((int((y_distance+500)),int(x_distance)),np.nan)\n",
    "# Fill in the tTEM data by loop through the grid\n",
    "    first_iteration = True\n",
    "    for name, group in ttem_coordinate_group:\n",
    "        if first_iteration is True:\n",
    "            first_iteration = False\n",
    "            initial_distance = 1\n",
    "            tmp_coor = name\n",
    "            for index, line in group.iterrows():\n",
    "                elevation_cell_round = line['Elevation_Cell_for_plot']\n",
    "                elevation_end_round = line['Elevation_End_for_plot']\n",
    "                empty_grid[int((elevation_cell_round-6)*m_to_ft_factor):int((elevation_end_round+6)*m_to_ft_factor),int((initial_distance-10)*m_to_ft_factor/10):int(((initial_distance+10)*m_to_ft_factor/10))] = np.log10(line['Resistivity'])\n",
    "        else:\n",
    "            initial_distance = initial_distance + distance_of_two_points(tmp_coor[0],tmp_coor[1],name[0],name[1])\n",
    "            tmp_coor = name\n",
    "            for index, line in group.iterrows():\n",
    "                elevation_cell_round = line['Elevation_Cell_for_plot']\n",
    "                empty_grid[int((elevation_cell_round-6)*m_to_ft_factor):int((elevation_end_round+6)*m_to_ft_factor),int((initial_distance-10)*m_to_ft_factor/10):int(((initial_distance+10)*m_to_ft_factor/10))] = np.log10(line['Resistivity'])\n",
    "    fig = px.imshow(empty_grid, range_color=(0,3),color_continuous_scale=colorRes)\n",
    "    fig.update_layout(paper_bgcolor='white',plot_bgcolor='white',font_color='black')\n",
    "    fig.update_layout(\n",
    "        yaxis=dict(\n",
    "        title='Elevation ({})'.format(unit),\n",
    "        #tickmode='linear',\n",
    "        #tick0=1774,\n",
    "        #dtick=100\n",
    "    ),\n",
    "        xaxis=dict(\n",
    "        title='Distance ({})'.format(unit)\n",
    "    )\n",
    "    )\n",
    "    fig.update_layout(\n",
    "        dict(\n",
    "        xaxis=dict(\n",
    "            titlefont=dict(\n",
    "                family=\"Arial\",\n",
    "                size=50\n",
    "            ),\n",
    "            tickfont=dict(\n",
    "                family=\"Arial\",\n",
    "                size=45\n",
    "            )\n",
    "        ),\n",
    "        yaxis=dict(\n",
    "            titlefont=dict(\n",
    "                family=\"Arial\",\n",
    "                size=50\n",
    "            ),\n",
    "            tickfont=dict(\n",
    "                family=\"Arial\",\n",
    "                size=45\n",
    "            ),\n",
    "            #tickmode='array',\n",
    "            #tickvals=list(np.arange(0,empty_grid.shape[0],500)),\n",
    "            #TODO: this need more modification for m scale\n",
    "            #ticktext=[str(int(elevation_max-i/10)) for i in np.arange(0,empty_grid.shape[0],500)]\n",
    "        ),)\n",
    "    )\n",
    "    fig.update_coloraxes(\n",
    "        colorbar=dict(\n",
    "            ticks='outside',\n",
    "            title='Resistivity',\n",
    "            tickvals=[0,1,2,3],\n",
    "            tickfont=dict(\n",
    "                size=30\n",
    "            ),\n",
    "            ticktext=['1','10','100','1000'],\n",
    "            tickmode='array',\n",
    "            len=0.5))\n",
    "    \"\"\"fig.update_layout(\n",
    "        title=dict(\n",
    "            text='tTEM Line100, Northern Parowan Valley',\n",
    "        ),\n",
    "        titlefont=dict(\n",
    "            size=50\n",
    "        )\n",
    "    )\"\"\"\n",
    "    fig.show(renderer='browser')\n",
    "    return fig, ttem_preprocessed,empty_grid\n",
    "def block_plot2(ttem_df, line_filter=None, fence=None, plot_ft=True):\n",
    "\n",
    "    \"\"\"\n",
    "    This is the function that plot the given dataframe into gridded plot (for better looking)\n",
    "\n",
    "    :param DataFrame ttem_df: a data frame contains tTEM data exported from Aarhus workbench\n",
    "    :param int line_filter: In tTEM dataframe you can filter tTEM data by Line_No (default: None)\n",
    "    :param list fence: receive a UTM coordinate to cut data, ex: [xmin, ymin, xmax, ymax] (default: None)\n",
    "    :param plot_ft: True: plot all parameter in feet, False: plot in meter (default: True)\n",
    "    :return:\n",
    "        - fig - plotly fig of the block_plot\n",
    "        - ttem_for_plot - the tTEM dataframe use for plot\n",
    "        - empty_grid - the grid use to plot the figure\n",
    "    \"\"\"\n",
    "    if line_filter is not None and fence is not None:\n",
    "        ttem_preprocess_line = filter_line(ttem_df,line_filter)\n",
    "        ttem_preprocess_fence = data_fence(ttem_preprocess_line,fence[0],fence[1],fence[2],fence[3])\n",
    "        ttem_preprocessed = ttem_preprocess_fence.copy()\n",
    "    elif line_filter is not None:\n",
    "        ttem_preprocess_line = filter_line(ttem_df,line_filter)\n",
    "        ttem_preprocessed = ttem_preprocess_line.copy()\n",
    "    elif fence is not None:\n",
    "        ttem_preprocess_fence = data_fence(ttem_df,fence[0],fence[1],fence[2],fence[3])\n",
    "        ttem_preprocessed = ttem_preprocess_fence.copy()\n",
    "    else:\n",
    "        ttem_preprocessed = ttem_df\n",
    "    if plot_ft is True:\n",
    "        m_to_ft_factor = 3.28\n",
    "        unit = 'ft'\n",
    "    else:\n",
    "        m_to_ft_factor = 1\n",
    "        unit = 'm'\n",
    "    distance=0\n",
    "    ttem_coordinate_group = ttem_preprocessed.groupby(['UTMX','UTMY'])\n",
    "    for i in range(1,len(list(ttem_coordinate_group.groups.keys()))):\n",
    "        tmp =distance_of_two_points(list(ttem_coordinate_group.groups.keys())[i-1][0],\n",
    "                                     list(ttem_coordinate_group.groups.keys())[i-1][1],\n",
    "                                     list(ttem_coordinate_group.groups.keys())[i][0],\n",
    "                                     list(ttem_coordinate_group.groups.keys())[i][1])\n",
    "        distance=distance+tmp\n",
    "    distance_range = int(distance*m_to_ft_factor)\n",
    "    ttem_preprocessed['Elevation_Cell'] = ttem_preprocessed['Elevation_Cell']*m_to_ft_factor\n",
    "    ttem_preprocessed['Elevation_End'] = ttem_preprocessed['Elevation_End']*m_to_ft_factor\n",
    "    elevation_max = ttem_preprocessed['Elevation_Cell'].max()\n",
    "\n",
    "    elevation_end_min = ttem_preprocessed['Elevation_End'].min()\n",
    "\n",
    "    elevation_range = int(elevation_max-elevation_end_min)\n",
    "    print('elevation_range',elevation_max,elevation_end_min,elevation_range)\n",
    "    ttem_preprocessed['Elevation_Cell_for_plot'] = abs(ttem_preprocessed['Elevation_Cell'] - elevation_max)\n",
    "    ttem_preprocessed['Elevation_End_for_plot'] = abs(ttem_preprocessed['Elevation_End']-ttem_preprocessed['Elevation_End'].max())\n",
    "    y_distance = elevation_range\n",
    "    x_distance = distance_range/10\n",
    "    empty_grid = np.full((int((y_distance+500)),int(x_distance)),np.nan)\n",
    "# Fill in the tTEM data by loop through the grid\n",
    "    first_iteration = True\n",
    "    for name, group in ttem_coordinate_group:\n",
    "        if first_iteration is True:\n",
    "            first_iteration = False\n",
    "            initial_distance = 1\n",
    "            tmp_coor = name\n",
    "            for index, line in group.iterrows():\n",
    "                elevation_cell_round = line['Elevation_Cell_for_plot']\n",
    "                elevation_end_round = line['Elevation_End_for_plot']\n",
    "                empty_grid[int((elevation_cell_round-6)*m_to_ft_factor):int((elevation_end_round+6)*m_to_ft_factor),int((initial_distance-10)*m_to_ft_factor/10):int(((initial_distance+10)*m_to_ft_factor/10))] = np.log10(line['Resistivity'])\n",
    "        else:\n",
    "            initial_distance = initial_distance + distance_of_two_points(tmp_coor[0],tmp_coor[1],name[0],name[1])\n",
    "            tmp_coor = name\n",
    "            for index, line in group.iterrows():\n",
    "                elevation_cell_round = line['Elevation_Cell_for_plot']\n",
    "                empty_grid[int((elevation_cell_round-6)*m_to_ft_factor):int((elevation_end_round+6)*m_to_ft_factor),int((initial_distance-10)*m_to_ft_factor/10):int(((initial_distance+10)*m_to_ft_factor/10))] = np.log10(line['Resistivity'])\n",
    "    fig = px.imshow(empty_grid, range_color=(0,3),color_continuous_scale=colorRes)\n",
    "    fig.update_layout(paper_bgcolor='white',plot_bgcolor='white',font_color='black')\n",
    "    fig.update_layout(\n",
    "        yaxis=dict(\n",
    "        title='Elevation ({})'.format(unit),\n",
    "        #tickmode='linear',\n",
    "        #tick0=1774,\n",
    "        #dtick=100\n",
    "    ),\n",
    "        xaxis=dict(\n",
    "        title='Distance ({})'.format(unit)\n",
    "    )\n",
    "    )\n",
    "    fig.update_layout(\n",
    "        dict(\n",
    "        xaxis=dict(\n",
    "            titlefont=dict(\n",
    "                family=\"Arial\",\n",
    "                size=50\n",
    "            ),\n",
    "            tickfont=dict(\n",
    "                family=\"Arial\",\n",
    "                size=45\n",
    "            )\n",
    "        ),\n",
    "        yaxis=dict(\n",
    "            titlefont=dict(\n",
    "                family=\"Arial\",\n",
    "                size=50\n",
    "            ),\n",
    "            tickfont=dict(\n",
    "                family=\"Arial\",\n",
    "                size=45\n",
    "            ),\n",
    "            #tickmode='array',\n",
    "            #tickvals=list(np.arange(0,empty_grid.shape[0],500)),\n",
    "            #TODO: this need more modification for m scale\n",
    "            #ticktext=[str(int(elevation_max-i/10)) for i in np.arange(0,empty_grid.shape[0],500)]\n",
    "        ),)\n",
    "    )\n",
    "    fig.update_coloraxes(\n",
    "        colorbar=dict(\n",
    "            ticks='outside',\n",
    "            title='Resistivity',\n",
    "            tickvals=[0,1,2,3],\n",
    "            tickfont=dict(\n",
    "                size=30\n",
    "            ),\n",
    "            ticktext=['1','10','100','1000'],\n",
    "            tickmode='array',\n",
    "            len=0.5))\n",
    "    \"\"\"fig.update_layout(\n",
    "        title=dict(\n",
    "            text='tTEM Line100, Northern Parowan Valley',\n",
    "        ),\n",
    "        titlefont=dict(\n",
    "            size=50\n",
    "        )\n",
    "    )\"\"\"\n",
    "    fig.show(renderer='browser')\n",
    "    return fig, ttem_preprocessed,empty_grid\n",
    "def block_plot_ID(ttem_df, line_filter=None, fence=None, plot_ft=True):\n",
    "\n",
    "    \"\"\"\n",
    "    This is the function that plot the given dataframe into gridded plot (for better looking)\n",
    "\n",
    "    :param DataFrame ttem_df: a data frame contains tTEM data exported from Aarhus workbench\n",
    "    :param int line_filter: In tTEM dataframe you can filter tTEM data by Line_No (default: None)\n",
    "    :param list fence: receive a UTM coordinate to cut data, ex: [xmin, ymin, xmax, ymax] (default: None)\n",
    "    :param plot_ft: True: plot all parameter in feet, False: plot in meter (default: True)\n",
    "    :return:\n",
    "        - fig - plotly fig of the block_plot\n",
    "        - ttem_for_plot - the tTEM dataframe use for plot\n",
    "        - empty_grid - the grid use to plot the figure\n",
    "    \"\"\"\n",
    "    if line_filter is not None and fence is not None:\n",
    "        ttem_preprocess_line = filter_line(ttem_df,line_filter)\n",
    "        ttem_preprocess_fence = data_fence(ttem_preprocess_line,fence[0],fence[1],fence[2],fence[3])\n",
    "        ttem_preprocessed = ttem_preprocess_fence.copy()\n",
    "    elif line_filter is not None:\n",
    "        ttem_preprocess_line = filter_line(ttem_df,line_filter)\n",
    "        ttem_preprocessed = ttem_preprocess_line.copy()\n",
    "    elif fence is not None:\n",
    "        ttem_preprocess_fence = data_fence(ttem_df,fence[0],fence[1],fence[2],fence[3])\n",
    "        ttem_preprocessed = ttem_preprocess_fence.copy()\n",
    "    else:\n",
    "        ttem_preprocessed = ttem_df\n",
    "    if plot_ft is True:\n",
    "        m_to_ft_factor = 3.28\n",
    "        unit = 'ft'\n",
    "    else:\n",
    "        m_to_ft_factor = 1\n",
    "        unit = 'm'\n",
    "    ttem_preprocessed['Elevation_Cell'] = ttem_preprocessed['Elevation_Cell']*m_to_ft_factor\n",
    "    ttem_preprocessed['Elevation_End'] = ttem_preprocessed['Elevation_End']*m_to_ft_factor\n",
    "    elevation_max = ttem_preprocessed['Elevation_Cell'].max()\n",
    "    elevation_end_min = ttem_preprocessed['Elevation_End'].min()\n",
    "    elevation_range = int(elevation_max-elevation_end_min)\n",
    "    #print('elevation_range',elevation_max,elevation_end_min,elevation_range)\n",
    "    ttem_preprocessed['Elevation_Cell_for_plot'] = abs(ttem_preprocessed['Elevation_Cell'] - elevation_max)\n",
    "    ttem_preprocessed['Elevation_End_for_plot'] = abs(ttem_preprocessed['Elevation_End']-ttem_preprocessed['Elevation_End'].max())\n",
    "    distance_range = ttem_preprocessed['ID'].max() - ttem_preprocessed['ID'].min()\n",
    "    y_distance = elevation_range\n",
    "    x_distance = distance_range\n",
    "    empty_grid = np.full((int((y_distance)),int(x_distance)),np.nan)\n",
    "# Fill in the tTEM data by loop through the grid\n",
    "    first_iteration = True\n",
    "    ttem_ID_group = ttem_preprocessed.groupby('ID')\n",
    "    for name,group in ttem_ID_group:\n",
    "        for index, line in group.iterrows():\n",
    "            empty_grid[int(line['Elevation_Cell_for_plot']-6*m_to_ft_factor):int(line['Elevation_End_for_plot']+6*m_to_ft_factor), int(name)-1:int(name)+1] = np.log10(line['Resistivity'])\n",
    "    fig = px.imshow(empty_grid, range_color=(0,3),color_continuous_scale=colorRes)\n",
    "    fig.update_layout(paper_bgcolor='white',plot_bgcolor='white',font_color='black')\n",
    "    fig.update_layout(\n",
    "        yaxis=dict(\n",
    "        title='Elevation ({})'.format(unit),\n",
    "        #tickmode='linear',\n",
    "        #tick0=1774,\n",
    "        #dtick=100\n",
    "    ),\n",
    "        xaxis=dict(\n",
    "        title='Distance ({})'.format(unit)\n",
    "    )\n",
    "    )\n",
    "    fig.update_layout(\n",
    "        dict(\n",
    "        xaxis=dict(\n",
    "            titlefont=dict(\n",
    "                family=\"Arial\",\n",
    "                size=50\n",
    "            ),\n",
    "            tickfont=dict(\n",
    "                family=\"Arial\",\n",
    "                size=45\n",
    "            )\n",
    "        ),\n",
    "        yaxis=dict(\n",
    "            titlefont=dict(\n",
    "                family=\"Arial\",\n",
    "                size=50\n",
    "            ),\n",
    "            tickfont=dict(\n",
    "                family=\"Arial\",\n",
    "                size=45\n",
    "            ),\n",
    "            #tickmode='array',\n",
    "            #tickvals=list(np.arange(0,empty_grid.shape[0],500)),\n",
    "            #TODO: this need more modification for m scale\n",
    "            #ticktext=[str(int(elevation_max-i/10)) for i in np.arange(0,empty_grid.shape[0],500)]\n",
    "        ),)\n",
    "    )\n",
    "    fig.update_coloraxes(\n",
    "        colorbar=dict(\n",
    "            ticks='outside',\n",
    "            title='Resistivity',\n",
    "            tickvals=[0,1,2,3],\n",
    "            tickfont=dict(\n",
    "                size=30\n",
    "            ),\n",
    "            ticktext=['1','10','100','1000'],\n",
    "            tickmode='array',\n",
    "            len=0.5))\n",
    "    \"\"\"fig.update_layout(\n",
    "        title=dict(\n",
    "            text='tTEM Line100, Northern Parowan Valley',\n",
    "        ),\n",
    "        titlefont=dict(\n",
    "            size=50\n",
    "        )\n",
    "    )\"\"\"\n",
    "    fig.show(renderer='browser')\n",
    "    return fig, ttem_preprocessed,empty_grid\n",
    "def rock_plot(rock_trans_df, line_filter=None, fence=None, plot_ft=True):\n",
    "\n",
    "    \"\"\"\n",
    "    This is the function that plot the given dataframe into gridded plot (for better looking)\n",
    "\n",
    "    :param ttem_df: a data frame contains tTEM data exported from Aarhus workbench\n",
    "    :param line_filter: In tTEM dataframe you can filter tTEM data by Line_No (default: None)\n",
    "    :param fence: receive a UTM coordinate to cut data, ex: [xmin, ymin, xmax, ymax] (default: None)\n",
    "    :param plot_ft: True: plot all parameter in feet, False: plot in meter (default: True)\n",
    "    :return:\n",
    "    \"\"\"\n",
    "    if line_filter is not None and fence is not None:\n",
    "        ttem_preprocess_line = filter_line(rock_trans_df,line_filter)\n",
    "        ttem_preprocess_fence = data_fence(ttem_preprocess_line,fence[0],fence[1],fence[2],fence[3])\n",
    "        ttem_preprocessed = ttem_preprocess_fence.copy()\n",
    "    elif line_filter is not None:\n",
    "        ttem_preprocess_line = filter_line(rock_trans_df,line_filter)\n",
    "        ttem_preprocessed = ttem_preprocess_line.copy()\n",
    "    elif fence is not None:\n",
    "        ttem_preprocess_fence = data_fence(rock_trans_df,fence[0],fence[1],fence[2],fence[3])\n",
    "        ttem_preprocessed = ttem_preprocess_fence.copy()\n",
    "    else:\n",
    "        ttem_preprocessed = rock_trans_df\n",
    "    if plot_ft is True:\n",
    "        m_to_ft_factor = 3.28\n",
    "        unit = 'ft'\n",
    "    else:\n",
    "        m_to_ft_factor = 1\n",
    "        unit = 'm'\n",
    "    ttem_preprocessed['distance'] = np.sqrt(ttem_preprocessed['UTMX']**2 + ttem_preprocessed['UTMY']**2)*m_to_ft_factor\n",
    "    ttem_preprocessed['Elevation_Cell'] = ttem_preprocessed['Elevation_Cell']*m_to_ft_factor\n",
    "    ttem_preprocessed['Elevation_End'] = ttem_preprocessed['Elevation_End']*m_to_ft_factor\n",
    "    distance_min = ttem_preprocessed['distance'].min()\n",
    "    elevation_max = ttem_preprocessed['Elevation_Cell'].max()\n",
    "    elevation_end_max = ttem_preprocessed['Elevation_End'].max()\n",
    "    ttem_preprocessed['distance_for_plot'] = ttem_preprocessed['distance'] - distance_min\n",
    "    ttem_preprocessed['Elevation_Cell_for_plot'] = ttem_preprocessed['Elevation_Cell'] - elevation_max\n",
    "    ttem_preprocessed['Elevation_End_for_plot'] = ttem_preprocessed['Elevation_End'] - elevation_end_max\n",
    "    ttem_for_plot = abs(ttem_preprocessed[['distance_for_plot', 'Identity_n','Elevation_Cell_for_plot','Elevation_End_for_plot']])\n",
    "    x_distance = ttem_for_plot['distance_for_plot'].max()\n",
    "    y_distance = ttem_for_plot['Elevation_End_for_plot'].max()\n",
    "    empty_grid = np.full((int((y_distance+10)*10),int(x_distance)),np.nan)\n",
    "# Fill in the tTEM data by loop through the grid\n",
    "    for index, line in ttem_for_plot.iterrows():\n",
    "        distance_round = int(line['distance_for_plot'])\n",
    "        elevation_cell_round = int(line['Elevation_Cell_for_plot'])\n",
    "        elevation_end_round = int(line['Elevation_End_for_plot'])\n",
    "        empty_grid[int(elevation_cell_round*10-3*10*m_to_ft_factor):int(elevation_end_round*10+3*10*m_to_ft_factor),int(distance_round):int(distance_round+1)] = line['Identity_n']\n",
    "    fig = px.imshow(empty_grid, range_color=(1,3))\n",
    "    fig.update_layout(paper_bgcolor='white',plot_bgcolor='white',font_color='black')\n",
    "    fig.update_layout(\n",
    "        dict(\n",
    "        xaxis=dict(\n",
    "            title='Distance ({})'.format(unit),\n",
    "            scaleanchor = 'y',\n",
    "            scaleratio = 10,\n",
    "            titlefont=dict(\n",
    "                family=\"Arial\",\n",
    "                size=50\n",
    "            ),\n",
    "            tickfont=dict(\n",
    "                family=\"Arial\",\n",
    "                size=45\n",
    "            )\n",
    "        ),\n",
    "        yaxis=dict(\n",
    "            title='Elevation ({})'.format(unit),\n",
    "            titlefont=dict(\n",
    "                family=\"Arial\",\n",
    "                size=50\n",
    "            ),\n",
    "            tickfont=dict(\n",
    "                family=\"Arial\",\n",
    "                size=45\n",
    "            ),\n",
    "            tickmode='array',\n",
    "            tickvals=list(np.arange(0,empty_grid.shape[0],500)),\n",
    "            #TODO: this need more modification for m scale\n",
    "            ticktext=[str(int(elevation_max-i/10)) for i in np.arange(0,empty_grid.shape[0],500)]\n",
    "        ),\n",
    "        )\n",
    "    )\n",
    "    fig.update_coloraxes(\n",
    "        colorbar=dict(\n",
    "            ticks='outside',\n",
    "            title='Rock Type',\n",
    "            tickvals=[1,2,3],\n",
    "            tickfont=dict(\n",
    "                size=30\n",
    "            ),\n",
    "            ticktext=['Fine grained','Mixed Grained','Coarse Grained'],\n",
    "            tickmode='array',\n",
    "            len=0.5))\n",
    "    \"\"\"fig.update_layout(\n",
    "        title=dict(\n",
    "            text='tTEM Line100, Northern Parowan Valley',\n",
    "        ),\n",
    "        titlefont=dict(\n",
    "            size=50\n",
    "        )\n",
    "    )\"\"\"\n",
    "    fig.show(renderer='browser')\n",
    "    return fig, ttem_for_plot, empty_grid"
   ]
  },
  {
   "cell_type": "code",
   "execution_count": null,
   "outputs": [],
   "source": [
    "fig,ttem,grid = block_plot(ttem_center_data,line_filter=190)"
   ],
   "metadata": {
    "collapsed": false
   }
  },
  {
   "cell_type": "code",
   "execution_count": null,
   "outputs": [],
   "source": [
    "import  importlib\n",
    "importlib.reload(tt.process_ttem)"
   ],
   "metadata": {
    "collapsed": false
   }
  },
  {
   "cell_type": "code",
   "execution_count": 2,
   "outputs": [
    {
     "name": "stderr",
     "output_type": "stream",
     "text": [
      "Applying DOI |                                | 68/7968"
     ]
    },
    {
     "name": "stdout",
     "output_type": "stream",
     "text": [
      "No layer was excluded\n",
      "No line was excluded\n",
      "No point was excluded\n"
     ]
    },
    {
     "name": "stderr",
     "output_type": "stream",
     "text": [
      "Applying DOI |################################| 7968/7968\n"
     ]
    }
   ],
   "source": [
    "ttem_north = tt.main.ProcessTTEM(ttem_path=[ttemname_north],\n",
    "                                  welllog=welllog,\n",
    "                                  DOI_path=DOI)\n",
    "ttem_north_data = ttem_north.data()"
   ],
   "metadata": {
    "collapsed": false
   }
  },
  {
   "cell_type": "code",
   "execution_count": 2,
   "outputs": [
    {
     "name": "stderr",
     "output_type": "stream",
     "text": [
      "Applying DOI |                                | 48/7968"
     ]
    },
    {
     "name": "stdout",
     "output_type": "stream",
     "text": [
      "No layer was excluded\n",
      "No line was excluded\n",
      "No point was excluded\n"
     ]
    },
    {
     "name": "stderr",
     "output_type": "stream",
     "text": [
      "Applying DOI |################################| 7968/7968\n"
     ]
    }
   ],
   "source": [
    "ttem_center = tt.main.ProcessTTEM(ttem_path=[ttemname_center],\n",
    "                                  welllog=welllog,\n",
    "                                  DOI_path=DOI)\n",
    "ttem_center_data = ttem_center.data()"
   ],
   "metadata": {
    "collapsed": false
   }
  },
  {
   "cell_type": "code",
   "execution_count": 6,
   "outputs": [
    {
     "data": {
      "text/plain": "         ID  Line_No  Layer_No      UTMX       UTMY  Elevation_Cell  \\\n0         2      100         1  350539.3  4212487.5         1779.01   \n1         2      100         2  350539.3  4212487.5         1777.97   \n2         2      100         3  350539.3  4212487.5         1776.83   \n3         2      100         4  350539.3  4212487.5         1775.59   \n4         2      100         5  350539.3  4212487.5         1774.25   \n...     ...      ...       ...       ...        ...             ...   \n79577  3849      190        20  347453.9  4202353.1         1738.89   \n79578  3849      190        21  347453.9  4202353.1         1733.69   \n79579  3849      190        22  347453.9  4202353.1         1728.04   \n79580  3849      190        23  347453.9  4202353.1         1721.89   \n79581  3849      190        24  347453.9  4202353.1         1715.20   \n\n       Resistivity  Resistivity_STD  Conductivity  Depth_top  Depth_bottom  \\\n0            21.76            1.604       45.9559      0.000         1.000   \n1            22.94            1.446       43.5920      1.000         2.088   \n2            24.34            1.572       41.0846      2.088         3.272   \n3            24.96            1.627       40.0641      3.272         4.560   \n4            23.93            1.574       41.7885      4.560         5.962   \n...            ...              ...           ...        ...           ...   \n79577        75.86            1.775       13.1822     45.106        50.080   \n79578        80.34            1.826       12.4471     50.080        55.492   \n79579        77.78            1.879       12.8568     55.492        61.381   \n79580        69.98            1.950       14.2898     61.381        67.789   \n79581        59.51            2.070       16.8039     67.789        74.762   \n\n       Thickness  Thickness_STD  Elevation_End  \n0          1.000          1.001       1778.010  \n1          1.088          1.001       1776.882  \n2          1.184          1.001       1775.646  \n3          1.288          1.001       1774.302  \n4          1.402          1.001       1772.848  \n...          ...            ...            ...  \n79577      4.974          1.001       1733.916  \n79578      5.412          1.001       1728.278  \n79579      5.889          1.001       1722.151  \n79580      6.408          1.001       1715.482  \n79581      6.973          1.001       1708.227  \n\n[79582 rows x 14 columns]",
      "text/html": "<div>\n<style scoped>\n    .dataframe tbody tr th:only-of-type {\n        vertical-align: middle;\n    }\n\n    .dataframe tbody tr th {\n        vertical-align: top;\n    }\n\n    .dataframe thead th {\n        text-align: right;\n    }\n</style>\n<table border=\"1\" class=\"dataframe\">\n  <thead>\n    <tr style=\"text-align: right;\">\n      <th></th>\n      <th>ID</th>\n      <th>Line_No</th>\n      <th>Layer_No</th>\n      <th>UTMX</th>\n      <th>UTMY</th>\n      <th>Elevation_Cell</th>\n      <th>Resistivity</th>\n      <th>Resistivity_STD</th>\n      <th>Conductivity</th>\n      <th>Depth_top</th>\n      <th>Depth_bottom</th>\n      <th>Thickness</th>\n      <th>Thickness_STD</th>\n      <th>Elevation_End</th>\n    </tr>\n  </thead>\n  <tbody>\n    <tr>\n      <th>0</th>\n      <td>2</td>\n      <td>100</td>\n      <td>1</td>\n      <td>350539.3</td>\n      <td>4212487.5</td>\n      <td>1779.01</td>\n      <td>21.76</td>\n      <td>1.604</td>\n      <td>45.9559</td>\n      <td>0.000</td>\n      <td>1.000</td>\n      <td>1.000</td>\n      <td>1.001</td>\n      <td>1778.010</td>\n    </tr>\n    <tr>\n      <th>1</th>\n      <td>2</td>\n      <td>100</td>\n      <td>2</td>\n      <td>350539.3</td>\n      <td>4212487.5</td>\n      <td>1777.97</td>\n      <td>22.94</td>\n      <td>1.446</td>\n      <td>43.5920</td>\n      <td>1.000</td>\n      <td>2.088</td>\n      <td>1.088</td>\n      <td>1.001</td>\n      <td>1776.882</td>\n    </tr>\n    <tr>\n      <th>2</th>\n      <td>2</td>\n      <td>100</td>\n      <td>3</td>\n      <td>350539.3</td>\n      <td>4212487.5</td>\n      <td>1776.83</td>\n      <td>24.34</td>\n      <td>1.572</td>\n      <td>41.0846</td>\n      <td>2.088</td>\n      <td>3.272</td>\n      <td>1.184</td>\n      <td>1.001</td>\n      <td>1775.646</td>\n    </tr>\n    <tr>\n      <th>3</th>\n      <td>2</td>\n      <td>100</td>\n      <td>4</td>\n      <td>350539.3</td>\n      <td>4212487.5</td>\n      <td>1775.59</td>\n      <td>24.96</td>\n      <td>1.627</td>\n      <td>40.0641</td>\n      <td>3.272</td>\n      <td>4.560</td>\n      <td>1.288</td>\n      <td>1.001</td>\n      <td>1774.302</td>\n    </tr>\n    <tr>\n      <th>4</th>\n      <td>2</td>\n      <td>100</td>\n      <td>5</td>\n      <td>350539.3</td>\n      <td>4212487.5</td>\n      <td>1774.25</td>\n      <td>23.93</td>\n      <td>1.574</td>\n      <td>41.7885</td>\n      <td>4.560</td>\n      <td>5.962</td>\n      <td>1.402</td>\n      <td>1.001</td>\n      <td>1772.848</td>\n    </tr>\n    <tr>\n      <th>...</th>\n      <td>...</td>\n      <td>...</td>\n      <td>...</td>\n      <td>...</td>\n      <td>...</td>\n      <td>...</td>\n      <td>...</td>\n      <td>...</td>\n      <td>...</td>\n      <td>...</td>\n      <td>...</td>\n      <td>...</td>\n      <td>...</td>\n      <td>...</td>\n    </tr>\n    <tr>\n      <th>79577</th>\n      <td>3849</td>\n      <td>190</td>\n      <td>20</td>\n      <td>347453.9</td>\n      <td>4202353.1</td>\n      <td>1738.89</td>\n      <td>75.86</td>\n      <td>1.775</td>\n      <td>13.1822</td>\n      <td>45.106</td>\n      <td>50.080</td>\n      <td>4.974</td>\n      <td>1.001</td>\n      <td>1733.916</td>\n    </tr>\n    <tr>\n      <th>79578</th>\n      <td>3849</td>\n      <td>190</td>\n      <td>21</td>\n      <td>347453.9</td>\n      <td>4202353.1</td>\n      <td>1733.69</td>\n      <td>80.34</td>\n      <td>1.826</td>\n      <td>12.4471</td>\n      <td>50.080</td>\n      <td>55.492</td>\n      <td>5.412</td>\n      <td>1.001</td>\n      <td>1728.278</td>\n    </tr>\n    <tr>\n      <th>79579</th>\n      <td>3849</td>\n      <td>190</td>\n      <td>22</td>\n      <td>347453.9</td>\n      <td>4202353.1</td>\n      <td>1728.04</td>\n      <td>77.78</td>\n      <td>1.879</td>\n      <td>12.8568</td>\n      <td>55.492</td>\n      <td>61.381</td>\n      <td>5.889</td>\n      <td>1.001</td>\n      <td>1722.151</td>\n    </tr>\n    <tr>\n      <th>79580</th>\n      <td>3849</td>\n      <td>190</td>\n      <td>23</td>\n      <td>347453.9</td>\n      <td>4202353.1</td>\n      <td>1721.89</td>\n      <td>69.98</td>\n      <td>1.950</td>\n      <td>14.2898</td>\n      <td>61.381</td>\n      <td>67.789</td>\n      <td>6.408</td>\n      <td>1.001</td>\n      <td>1715.482</td>\n    </tr>\n    <tr>\n      <th>79581</th>\n      <td>3849</td>\n      <td>190</td>\n      <td>24</td>\n      <td>347453.9</td>\n      <td>4202353.1</td>\n      <td>1715.20</td>\n      <td>59.51</td>\n      <td>2.070</td>\n      <td>16.8039</td>\n      <td>67.789</td>\n      <td>74.762</td>\n      <td>6.973</td>\n      <td>1.001</td>\n      <td>1708.227</td>\n    </tr>\n  </tbody>\n</table>\n<p>79582 rows × 14 columns</p>\n</div>"
     },
     "execution_count": 6,
     "metadata": {},
     "output_type": "execute_result"
    }
   ],
   "source": [
    "ttem_north_data"
   ],
   "metadata": {
    "collapsed": false
   }
  },
  {
   "cell_type": "code",
   "execution_count": null,
   "outputs": [],
   "source": [
    "fig_hist_north = go.Figure(go.Histogram(x=ttem_north_data['Resistivity']))\n",
    "fig_hist_north.show()"
   ],
   "metadata": {
    "collapsed": false
   }
  },
  {
   "cell_type": "code",
   "execution_count": null,
   "outputs": [],
   "source": [
    "fig_hist_cenyer = go.Figure(go.Histogram(x=ttem_center_data['Resistivity']))\n",
    "fig_hist_cenyer.show()"
   ],
   "metadata": {
    "collapsed": false
   }
  },
  {
   "cell_type": "code",
   "execution_count": null,
   "outputs": [],
   "source": [
    "ttem_center_data['Elevation_Cell']*3.28\n",
    "ttem_center_data['Elevation_End']*3.28"
   ],
   "metadata": {
    "collapsed": false
   }
  },
  {
   "cell_type": "code",
   "execution_count": null,
   "outputs": [],
   "source": [
    "ttem"
   ],
   "metadata": {
    "collapsed": false
   }
  },
  {
   "cell_type": "code",
   "execution_count": null,
   "outputs": [],
   "source": [
    "fig.update_layout(\n",
    "        dict(\n",
    "        yaxis=dict(\n",
    "            scaleanchor = \"x\",\n",
    "            scaleratio = 10,\n",
    "            titlefont=dict(\n",
    "                family=\"Arial\",\n",
    "                size=50\n",
    "            ),\n",
    "            tickfont=dict(\n",
    "                family=\"Arial\",\n",
    "                size=45\n",
    "\n",
    "            )\n",
    "        )))"
   ],
   "metadata": {
    "collapsed": false
   }
  },
  {
   "cell_type": "code",
   "execution_count": null,
   "outputs": [],
   "source": [
    "rk_trans, pack_bootstrap_result = ttem_center.ttem_well_connect(distance=1000)"
   ],
   "metadata": {
    "collapsed": false,
    "pycharm": {
     "is_executing": true
    }
   }
  },
  {
   "cell_type": "code",
   "execution_count": null,
   "outputs": [],
   "source": [
    "fig.update_yaxes(\n",
    "    scaleanchor = \"x\",\n",
    "    scaleratio = 1000,\n",
    "  )\n"
   ],
   "metadata": {
    "collapsed": false
   }
  },
  {
   "cell_type": "code",
   "execution_count": 8,
   "outputs": [],
   "source": [
    "ttem_test_data = ttem_center_data[ttem_center_data['Line_No'] ==190]"
   ],
   "metadata": {
    "collapsed": false
   }
  },
  {
   "cell_type": "code",
   "execution_count": null,
   "outputs": [],
   "source": [
    "    ttem_coordinate_group = ttem_test_data.groupby(['UTMX','UTMY'])\n",
    "    for i in range(1,len(list(ttem_coordinate_group.groups.keys()))):\n",
    "        tmp =distance_of_two_points(list(ttem_coordinate_group.groups.keys())[i-1][0],\n",
    "                                     list(ttem_coordinate_group.groups.keys())[i-1][1],\n",
    "                                     list(ttem_coordinate_group.groups.keys())[i][0],\n",
    "                                     list(ttem_coordinate_group.groups.keys())[i][1])\n",
    "        distance=distance+tmp\n"
   ],
   "metadata": {
    "collapsed": false
   }
  },
  {
   "cell_type": "code",
   "execution_count": null,
   "outputs": [],
   "source": [
    "distance"
   ],
   "metadata": {
    "collapsed": false
   }
  },
  {
   "cell_type": "code",
   "execution_count": null,
   "outputs": [],
   "source": [
    "distance=0\n",
    "for i in range(1,len(list(groups.groups.keys()))):\n",
    "    tmp =distance_of_two_points(list(groups.groups.keys())[i-1][0],\n",
    "                                     list(groups.groups.keys())[i-1][1],\n",
    "                                     list(groups.groups.keys())[i][0],\n",
    "                                     list(groups.groups.keys())[i][1])\n",
    "    distance=distance+tmp\n"
   ],
   "metadata": {
    "collapsed": false
   }
  },
  {
   "cell_type": "code",
   "execution_count": null,
   "outputs": [],
   "source": [
    "groups.group_keys"
   ],
   "metadata": {
    "collapsed": false
   }
  },
  {
   "cell_type": "code",
   "execution_count": null,
   "outputs": [],
   "source": [
    "rk_trans_north, pack_bootstrap_result_north = ttem_north.ttem_well_connect(distance=1000)\n",
    "plot_bootstrap_result(pack_bootstrap_result_north)"
   ],
   "metadata": {
    "collapsed": false
   }
  },
  {
   "cell_type": "code",
   "execution_count": null,
   "outputs": [],
   "source": [
    "water = tt.main.GWSurface(waterwell=well_info)"
   ],
   "metadata": {
    "collapsed": false
   }
  },
  {
   "cell_type": "code",
   "execution_count": null,
   "outputs": [],
   "source": [
    "water_format = water.format(elevation=None, time='2022-3')\n",
    "water_format['water_elevation'] = water_format['sl_lev_va2022-3']\n",
    "water_format13_3 =  water.format(elevation=None, time='2013-3')\n",
    "water_format12_11 = water.format(elevation=None, time='2012-11')\n",
    "elevation_diff12_13 = water_format12_11['sl_lev_va2012-11'].subtract(water_format13_3['sl_lev_va2013-3'])\n",
    "water_format_correct = water_format.copy()\n",
    "water_format_correct['water_elevation'] = water_format_correct['water_elevation'] + elevation_diff12_13"
   ],
   "metadata": {
    "collapsed": false
   }
  },
  {
   "cell_type": "code",
   "execution_count": null,
   "outputs": [],
   "source": [
    "fig = go.Figure()\n",
    "#ttem_filter = filter_line(ttem_north_data,180)\n",
    "#trace_ttem = tt.plot.generate_trace(ttem_filter, 'ttem')\n",
    "#fig.add_trace(trace_ttem['data'][0])\n",
    "trace_water_uncorrect = go.Scatter3d(x=water_format['UTMX'],y=water_format['UTMY'],z=water_format['water_elevation'])\n",
    "trace_water_correct = go.Scatter3d(x=water_format_correct['UTMX'],y=water_format_correct['UTMY'],z=water_format_correct['water_elevation'])"
   ],
   "metadata": {
    "collapsed": false
   }
  },
  {
   "cell_type": "code",
   "execution_count": null,
   "outputs": [],
   "source": [
    "fig.add_trace(trace_water_uncorrect)\n",
    "fig.add_trace(trace_water_correct)"
   ],
   "metadata": {
    "collapsed": false
   }
  },
  {
   "cell_type": "code",
   "execution_count": null,
   "outputs": [],
   "source": [
    "fig.show()"
   ],
   "metadata": {
    "collapsed": false
   }
  },
  {
   "cell_type": "code",
   "execution_count": null,
   "outputs": [],
   "source": [
    "water_format_correct.to_csv(r'C:\\Users\\jldz9\\OneDrive - University of Missouri\\MST\\2022\\2022SS\\ArcGIS\\ttem_specs\\shapefile\\corrected_water_elevation\\corrected_water_elevation.csv')"
   ],
   "metadata": {
    "collapsed": false
   }
  },
  {
   "cell_type": "code",
   "execution_count": null,
   "outputs": [],
   "source": [
    "fig, ttem_plot, grid_plot= block_plot(ttem_center_data,line_filter='190')"
   ],
   "metadata": {
    "collapsed": false
   }
  },
  {
   "cell_type": "code",
   "execution_count": null,
   "outputs": [],
   "source": [
    "trace = tt.plot.generate_trace(rk_trans,'rock')\n",
    "fig = go.Figure(trace)\n",
    "fig.show()"
   ],
   "metadata": {
    "collapsed": false
   }
  },
  {
   "cell_type": "code",
   "execution_count": null,
   "outputs": [],
   "source": [
    "fig_rock,ttem_plot,grid_plot = rock_plot(rk_trans,line_filter='190')"
   ],
   "metadata": {
    "collapsed": false
   }
  },
  {
   "cell_type": "code",
   "execution_count": null,
   "outputs": [],
   "source": [
    "ttem_plot.dtypes"
   ],
   "metadata": {
    "collapsed": false
   }
  },
  {
   "cell_type": "code",
   "execution_count": null,
   "outputs": [],
   "source": [
    "[np.arange(0,3151,500)]"
   ],
   "metadata": {
    "collapsed": false
   }
  },
  {
   "cell_type": "code",
   "execution_count": null,
   "outputs": [],
   "source": [
    "[str(int(i/10)) for i in a]"
   ],
   "metadata": {
    "collapsed": false
   }
  }
 ],
 "metadata": {
  "kernelspec": {
   "display_name": "Python 3",
   "language": "python",
   "name": "python3"
  },
  "language_info": {
   "codemirror_mode": {
    "name": "ipython",
    "version": 2
   },
   "file_extension": ".py",
   "mimetype": "text/x-python",
   "name": "python",
   "nbconvert_exporter": "python",
   "pygments_lexer": "ipython2",
   "version": "2.7.6"
  }
 },
 "nbformat": 4,
 "nbformat_minor": 0
}
