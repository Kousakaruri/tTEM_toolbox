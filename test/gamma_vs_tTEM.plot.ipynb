{
 "cells": [
  {
   "cell_type": "markdown",
   "source": [
    "### Plot tTEM with Gamma"
   ],
   "metadata": {
    "collapsed": false
   }
  },
  {
   "cell_type": "code",
   "execution_count": 1,
   "outputs": [],
   "source": [
    "# Parameters\n",
    "import pandas as pd\n",
    "import numpy as np\n",
    "import tTEM_toolbox as tt\n",
    "from pathlib import Path\n",
    "#from plotly.graph_objects as go\n",
    "import plotly.express as px\n",
    "import plotly.io as pio\n",
    "pio.renderers.default = \"browser\"\n",
    "workdir = Path(r'C:\\Users\\jldz9\\OneDrive - University of Missouri\\MST\\Code\\Python\\tTEM_test')\n",
    "welllog = workdir.joinpath(r'Plot_with_well_log\\Well_log.xlsx')\n",
    "elevation = workdir.joinpath(r'well_Utah\\usgs_water_elevation.csv')\n",
    "ttemname_north = workdir.joinpath(r'Plot_with_well_log\\PD1_I01_MOD.xyz')\n",
    "ttemname_center = workdir.joinpath(r'Plot_with_well_log\\PD22_I03_MOD.xyz')\n",
    "ttem_lslake = workdir.joinpath(r'Plot_with_well_log\\lsll_I05_MOD.xyz')\n",
    "DOI = workdir.joinpath(r'Plot_with_well_log\\DOID1_DOIStaE.xyz')\n",
    "well_info = workdir.joinpath(r'well_Utah\\USGSdownload\\NWISMapperExport.xlsx')\n",
    "gamma_file_path = r\"C:\\Users\\jldz9\\PycharmProjects\\tTEM_toolbox\\data\\Parowan water table.xlsx\"\n",
    "location = r\"C:\\Users\\jldz9\\OneDrive - University of Missouri\\MST\\Code\\Python\\Gamma\\location.csv\"\n",
    "colorRes = [[0, 'rgb(0,0,190)'],\n",
    "            [1 / 16, 'rgb(0,75,220)'],\n",
    "            [2 / 16, 'rgb(0,150,235)'],\n",
    "            [3 / 16, 'rgb(0,200,255)'],\n",
    "            [4 / 16, 'rgb(80,240,255)'],\n",
    "            [5 / 16, 'rgb(30,210,0)'],\n",
    "            [6 / 16, 'rgb(180,255,30)'],\n",
    "            [7 / 16, 'rgb(255,255,0)'],\n",
    "            [8 / 16, 'rgb(255,195,0)'],\n",
    "            [9 / 16, 'rgb(255,115,0)'],\n",
    "            [10 / 16, 'rgb(255,0,0)'],\n",
    "            [11 / 16, 'rgb(255,0,120)'],\n",
    "            [12 / 16, 'rgb(140,40,180)'],\n",
    "            [13 / 16, 'rgb(165,70,220)'],\n",
    "            [14 / 16, 'rgb(195,130,240)'],\n",
    "            [15 / 16, 'rgb(230,155,240)'],\n",
    "            [1, 'rgb(230,155,255)']]"
   ],
   "metadata": {
    "collapsed": false
   }
  },
  {
   "cell_type": "code",
   "execution_count": 2,
   "outputs": [],
   "source": [
    "gamma_elevation = pd.read_csv(location)\n",
    "bradshaw_farm_elevation = gamma_elevation[gamma_elevation['name'] == 'Bradshaw Farm']\n",
    "bradshaw_farms = pd.read_excel(r'C:\\Users\\jldz9\\PycharmProjects\\tTEM_toolbox\\data\\Parowan water table.xlsx',sheet_name='bradshaw farms down',skiprows=[1])\n",
    "bradshaw_farms.rename(columns=lambda x: str(x).strip(),inplace=True)\n",
    "bradshaw_farms_clean = bradshaw_farms[~(bradshaw_farms['COUNT'] == -999)]"
   ],
   "metadata": {
    "collapsed": false
   }
  },
  {
   "cell_type": "code",
   "execution_count": 3,
   "outputs": [],
   "source": [
    "from pyproj import Transformer\n",
    "x_ori = bradshaw_farm_elevation.iloc[0][\"X\"]\n",
    "y_ori = bradshaw_farm_elevation.iloc[0][\"Y\"]\n",
    "transformer = Transformer.from_crs('epsg:4326', 'epsg:32612')  # WGS84-->UTM12N\n",
    "x, y = transformer.transform(y_ori, x_ori)\n",
    "bradshaw_farms_clean.loc[:, \"X\"] = x\n",
    "bradshaw_farms_clean.loc[:, \"Y\"] = y\n",
    "bradshaw_farms_clean.loc[:, \"Z\"] = bradshaw_farm_elevation.loc[:, 'Z'].values[0]\n",
    "bradshaw_farms_clean.loc[:, \"Elevation\"] = bradshaw_farms_clean.loc[:, \"Z\"].sub(bradshaw_farms_clean.loc[:, \"Depth\"])"
   ],
   "metadata": {
    "collapsed": false
   }
  },
  {
   "cell_type": "code",
   "execution_count": 5,
   "outputs": [
    {
     "name": "stderr",
     "output_type": "stream",
     "text": [
      "Applying DOI |                                | 68/7968"
     ]
    },
    {
     "name": "stdout",
     "output_type": "stream",
     "text": [
      "Exclude layer []\n",
      "Exclude line []\n",
      "No point was excluded\n"
     ]
    },
    {
     "name": "stderr",
     "output_type": "stream",
     "text": [
      "Applying DOI |################################| 7968/7968\n"
     ]
    }
   ],
   "source": [
    "ttem_n = tt.main.ProcessTTEM(ttem_path=[ttemname_north],\n",
    "                                   welllog=welllog,\n",
    "                                   DOI_path=DOI,\n",
    "                                   layer_exclude=[],\n",
    "                                    line_exclude=[])\n"
   ],
   "metadata": {
    "collapsed": false
   }
  },
  {
   "cell_type": "code",
   "execution_count": 6,
   "outputs": [],
   "source": [
    "ttem_north = ttem_n.data()"
   ],
   "metadata": {
    "collapsed": false
   }
  },
  {
   "cell_type": "code",
   "execution_count": null,
   "outputs": [],
   "source": [
    "ttem_north"
   ],
   "metadata": {
    "collapsed": false
   }
  },
  {
   "cell_type": "code",
   "execution_count": 7,
   "outputs": [],
   "source": [
    "import pathlib\n",
    "def get_distance(group1, group2):\n",
    "    dis = np.sqrt((group1[0] - group2[0]) ** 2 + (group1[1] - group2[1]) ** 2)\n",
    "    return dis\n",
    "def select_closest_gamma(ttem_data, gamma_data,distance=500):\n",
    "    UTMX_gamma = gamma_data[\"X\"].iloc[0]\n",
    "    UTMY_gamma = gamma_data[\"Y\"].iloc[0]\n",
    "    ttem_data[\"distance\"] = np.sqrt((ttem_data[\"UTMX\"] - UTMX_gamma) ** 2 +\n",
    "                                    (ttem_data[\"UTMY\"] - UTMY_gamma) ** 2)\n",
    "    #match base on distance equation l = sqrt((x1-x2)**2 + (y1-y2)**2)\n",
    "    df_closest = ttem_data[ttem_data[\"distance\"] == ttem_data.distance.min()].reset_index(drop=True)\n",
    "    df_closest = df_closest[df_closest[\"distance\"] <= float(distance)]\n",
    "    return df_closest"
   ],
   "metadata": {
    "collapsed": false
   }
  },
  {
   "cell_type": "code",
   "execution_count": 8,
   "outputs": [],
   "source": [
    "df_closest = select_closest_gamma(ttem_north,bradshaw_farms_clean)"
   ],
   "metadata": {
    "collapsed": false
   }
  },
  {
   "cell_type": "code",
   "execution_count": null,
   "outputs": [
    {
     "name": "stdout",
     "output_type": "stream",
     "text": [
      "ID :2628\n"
     ]
    }
   ],
   "source": [
    "import importlib\n",
    "importlib.reload(tt.plot)\n",
    "fig = tt.plot.res_1d_plot(df_closest)"
   ],
   "metadata": {
    "collapsed": false,
    "pycharm": {
     "is_executing": true
    }
   }
  },
  {
   "cell_type": "code",
   "execution_count": 13,
   "outputs": [
    {
     "data": {
      "text/plain": "91.9"
     },
     "execution_count": 13,
     "metadata": {},
     "output_type": "execute_result"
    }
   ],
   "source": [
    "df_closest.Resistivity.max()"
   ],
   "metadata": {
    "collapsed": false
   }
  },
  {
   "cell_type": "code",
   "execution_count": null,
   "outputs": [],
   "source": [],
   "metadata": {
    "collapsed": false
   }
  }
 ],
 "metadata": {
  "kernelspec": {
   "display_name": "Python 3",
   "language": "python",
   "name": "python3"
  },
  "language_info": {
   "codemirror_mode": {
    "name": "ipython",
    "version": 2
   },
   "file_extension": ".py",
   "mimetype": "text/x-python",
   "name": "python",
   "nbconvert_exporter": "python",
   "pygments_lexer": "ipython2",
   "version": "2.7.6"
  }
 },
 "nbformat": 4,
 "nbformat_minor": 0
}
