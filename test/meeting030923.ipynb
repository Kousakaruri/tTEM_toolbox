{
 "cells": [
  {
   "cell_type": "markdown",
   "source": [
    "# method 1"
   ],
   "metadata": {
    "collapsed": false
   }
  },
  {
   "cell_type": "code",
   "execution_count": 1,
   "outputs": [],
   "source": [
    "import pandas as pd\n",
    "import tTEM_toolbox as tt\n",
    "from pathlib import Path\n",
    "#from plotly.graph_objects as go\n",
    "import plotly.express as px\n",
    "import plotly.io as pio\n",
    "pio.renderers.default = \"browser\"\n",
    "import plotly.io as pio\n",
    "pio.kaleido.scope.chromium_args = tuple([arg for arg in pio.kaleido.scope.chromium_args if arg != \"--disable-dev-shm-usage\"])\n",
    "workdir = Path(r'C:\\Users\\jldz9\\OneDrive - University of Missouri\\MST\\Code\\Python\\tTEM_test')\n",
    "welllog = workdir.joinpath(r'Plot_with_well_log\\Well_log.xlsx')\n",
    "ttemname_north = workdir.joinpath(r'Plot_with_well_log\\PD1_I01_MOD.xyz')\n",
    "ttemname_center = workdir.joinpath(r'Plot_with_well_log\\PD22_I03_MOD.xyz')\n",
    "DOI = workdir.joinpath(r'Plot_with_well_log\\DOID1_DOIStaE.xyz')"
   ],
   "metadata": {
    "collapsed": false
   }
  },
  {
   "cell_type": "code",
   "execution_count": 2,
   "outputs": [
    {
     "name": "stderr",
     "output_type": "stream",
     "text": [
      "Applying DOI |                                | 77/7968"
     ]
    },
    {
     "name": "stdout",
     "output_type": "stream",
     "text": [
      "No layer was excluded\n",
      "No line was excluded\n",
      "No point was excluded\n"
     ]
    },
    {
     "name": "stderr",
     "output_type": "stream",
     "text": [
      "Applying DOI |################################| 7968/7968\n",
      "Formating well logs |################################| 223/223\n",
      "Selecting closest ttem trace |################################| 223/223"
     ]
    },
    {
     "name": "stdout",
     "output_type": "stream",
     "text": [
      "Total of 7 well with in radius (500m), 216 skipped\n"
     ]
    },
    {
     "name": "stderr",
     "output_type": "stream",
     "text": [
      "\n"
     ]
    }
   ],
   "source": [
    "ttem_north = tt.main.ProcessTTEM(ttem_path=[ttemname_north],\n",
    "                                  welllog=welllog,\n",
    "                                  DOI_path=DOI)\n",
    "ttem_north_data = ttem_north.data()\n",
    "matched_ttem, matched_well = tt.bootstrap.select_closest(ttem_north_data,welllog)"
   ],
   "metadata": {
    "collapsed": false
   }
  },
  {
   "cell_type": "code",
   "execution_count": 16,
   "outputs": [
    {
     "name": "stderr",
     "output_type": "stream",
     "text": [
      "Applying DOI |                                | 87/7968"
     ]
    },
    {
     "name": "stdout",
     "output_type": "stream",
     "text": [
      "No layer was excluded\n",
      "No line was excluded\n",
      "No point was excluded\n"
     ]
    },
    {
     "name": "stderr",
     "output_type": "stream",
     "text": [
      "Applying DOI |################################| 7968/7968\n",
      "Formating well logs |################################| 223/223\n",
      "Selecting closest ttem trace |################################| 223/223\n"
     ]
    },
    {
     "name": "stdout",
     "output_type": "stream",
     "text": [
      "Total of 40 well with in radius (500m), 183 skipped\n"
     ]
    }
   ],
   "source": [
    "ttem_center = tt.main.ProcessTTEM(ttem_path=[ttemname_center],\n",
    "                                  welllog=welllog,\n",
    "                                  DOI_path=DOI)\n",
    "ttem_center_data = ttem_center.data()\n",
    "matched_ttem, matched_well = tt.bootstrap.select_closest(ttem_center_data,welllog)"
   ],
   "metadata": {
    "collapsed": false
   }
  },
  {
   "cell_type": "code",
   "execution_count": 15,
   "outputs": [],
   "source": [
    "well_grouped = matched_well.groupby('Bore')\n",
    "ttem_group = matched_ttem.groupby('Bore')\n",
    "concatlist = []\n",
    "for name, group in well_grouped:\n",
    "    ttem_DOI_elevation_min = ttem_group.get_group(name).Elevation_End.min()\n",
    "    well_depth_to_ttem_DOI = group[group['Elevation_End']>= ttem_DOI_elevation_min]\n",
    "    total_thickness = well_depth_to_ttem_DOI['Thickness'].sum()\n",
    "    lithology = well_depth_to_ttem_DOI.groupby('Keyword')\n",
    "    try:\n",
    "        well_fine_grain_pct = lithology.get_group('fine grain')['Thickness'].sum()/total_thickness\n",
    "    except KeyError:\n",
    "        well_fine_grain_pct = 0\n",
    "    try:\n",
    "        well_mix_grain_pct = lithology.get_group('mix grain')['Thickness'].sum()/total_thickness\n",
    "    except KeyError:\n",
    "        well_mix_grain_pct = 0\n",
    "    try:\n",
    "        well_coarse_grain_pct = lithology.get_group('coarse grain')['Thickness'].sum()/total_thickness\n",
    "    except KeyError:\n",
    "        well_coarse_grain_pct = 0\n",
    "    for rho_fine in range(1,20):\n",
    "        for rho_coarse in range(1,50):\n",
    "            rock_resistivity_range_df = pd.DataFrame({'Fine_conf':[0,rho_fine],'Mix_conf':[16,19],'Coarse_conf':[rho_coarse,200]})\n",
    "            ttem_indiv_group = ttem_group.get_group(name)\n",
    "            rock_trans = tt.Rock_trans.rock_transform(ttem_indiv_group,rock_resistivity_range_df)\n",
    "            group_total_thickness = rock_trans['Thickness'].sum()\n",
    "            rock_trans_grain_types = rock_trans.groupby('Identity')\n",
    "            try:\n",
    "                ttem_fine_grain_pct = rock_trans_grain_types.get_group('Fine_grain')['Thickness'].sum()/group_total_thickness\n",
    "            except KeyError:\n",
    "                ttem_fine_grain_pct = 0\n",
    "            try:\n",
    "                ttem_mix_grain_pct = rock_trans_grain_types.get_group('Mix_grain')['Thickness'].sum()/group_total_thickness\n",
    "            except KeyError:\n",
    "                ttem_mix_grain_pct = 0\n",
    "            try:\n",
    "                ttem_coarse_grain_pct = rock_trans_grain_types.get_group('Coarse_grain')['Thickness'].sum()/group_total_thickness\n",
    "            except KeyError:\n",
    "                ttem_coarse_grain_pct = 0\n",
    "            tmp_df =  pd.DataFrame([dict(Bore=name,rho_fine=rho_fine,rho_coarse=rho_coarse, fine_grain_error = abs(ttem_fine_grain_pct-well_fine_grain_pct), mix_grain_error = abs(ttem_mix_grain_pct-well_mix_grain_pct), coarse_grain_error = abs(ttem_coarse_grain_pct-well_coarse_grain_pct))])\n",
    "            concatlist.append(tmp_df)\n",
    "lithology_pct_error = pd.concat(concatlist)\n",
    "lithology_pct_error['Total_error'] = lithology_pct_error['fine_grain_error'] + lithology_pct_error['mix_grain_error']+lithology_pct_error['coarse_grain_error']\n",
    "lithology_pct_error_group = lithology_pct_error.groupby('Bore')"
   ],
   "metadata": {
    "collapsed": false
   }
  },
  {
   "cell_type": "code",
   "execution_count": 11,
   "outputs": [
    {
     "data": {
      "text/plain": "<pandas.core.groupby.generic.DataFrameGroupBy object at 0x000001FC0CC0E9E0>"
     },
     "execution_count": 11,
     "metadata": {},
     "output_type": "execute_result"
    }
   ],
   "source": [
    "lithology_pct_error_group"
   ],
   "metadata": {
    "collapsed": false
   }
  },
  {
   "cell_type": "code",
   "execution_count": 16,
   "outputs": [],
   "source": [
    "for name, group in lithology_pct_error_group:\n",
    "    fig = []\n",
    "    fig = px.scatter(group,x='fine_grain_error',y='coarse_grain_error', custom_data=['rho_fine','rho_coarse'])\n",
    "    fig.update_traces(hovertemplate =\n",
    "                        '<b>fine_grain_error: %{x}</b><br>'+\n",
    "                        '<b>coarse_grain_error: %{y}</b><br>'+\n",
    "                      '<b>rho_fine: %{customdata[0]}</b><br>'+\n",
    "                      '<b>rho_coarse: %{customdata[1]}</b><br>')\n",
    "    fig.update_layout(title = name)\n",
    "    import time\n",
    "    time.sleep(2)\n",
    "    fig.show()"
   ],
   "metadata": {
    "collapsed": false
   }
  },
  {
   "cell_type": "code",
   "execution_count": 18,
   "outputs": [],
   "source": [
    "for name, group in lithology_pct_error_group:\n",
    "    fig = []\n",
    "    fig = px.scatter(group,x='rho_fine',y='rho_coarse', custom_data=['fine_grain_error','mix_grain_error','coarse_grain_error','Total_error'], color='Total_error',color_continuous_scale='RdBu_r',)\n",
    "    fig.update_traces(hovertemplate =\n",
    "                        '<b>rho_fine: %{x}</b><br>'+\n",
    "                        '<b>rho_coarse: %{y}</b><br>'+\n",
    "                      '<b>fine_grain_error: %{customdata[0]:.2f}</b><br>'+\n",
    "                      '<b>mix_grain_error: %{customdata[1]:.2f}</b><br>'+\n",
    "                      '<b>coarse_grain_error: %{customdata[2]:.2f}</b><br>'+\n",
    "                      '<b>Total_error: %{customdata[3]:.2f}</b><br>')\n",
    "    fig.update_layout(title = name)\n",
    "    fig.update_layout(paper_bgcolor='white',plot_bgcolor='white',font_color='black')\n",
    "    fig.update_traces(marker=dict(size=12))\n",
    "    import time\n",
    "    time.sleep(2)\n",
    "    fig.show()"
   ],
   "metadata": {
    "collapsed": false
   }
  },
  {
   "cell_type": "code",
   "execution_count": 19,
   "outputs": [
    {
     "data": {
      "text/plain": "dict_keys([' 1788', ' 5327', ' 5450', '1234999', '13909', '13911', '13916', '13918', '13924', '13926', '13959', '13982', '13983', '13984', '13991', '13992', '14648', '17425', '20763', '23280', '23655', '25423', '26425', '26426', '26820', '26908', '27443', '28966', '30092', '34452', '426887', '430589', '431341', '6252', '6562', '7090', '7766', '8560', '9173', '9447'])"
     },
     "execution_count": 19,
     "metadata": {},
     "output_type": "execute_result"
    }
   ],
   "source": [
    "lithology_pct_error_group.groups.keys()"
   ],
   "metadata": {
    "collapsed": false
   }
  },
  {
   "cell_type": "code",
   "execution_count": 5,
   "outputs": [],
   "source": [
    "import os\n",
    "os.startfile(workdir)"
   ],
   "metadata": {
    "collapsed": false
   }
  },
  {
   "cell_type": "code",
   "execution_count": 14,
   "outputs": [],
   "source": [
    "concatlist2 = []\n",
    "for name, group in ttem_group:\n",
    "    for rho_fine in range(1,20):\n",
    "        for rho_coarse in range(1,50):\n",
    "            rock_resistivity_range_df = pd.DataFrame({'Fine_conf':[0,rho_fine],'Mix_conf':[16,19],'Coarse_conf':[rho_coarse,200]})\n",
    "            rock_trans = tt.Rock_trans.rock_transform(group,rock_resistivity_range_df)\n",
    "            group_total_thickness = rock_trans['Thickness'].sum()\n",
    "            rock_trans_grain_types = rock_trans.groupby('Identity')\n",
    "            try:\n",
    "                fine_grain_pct = rock_trans_grain_types.get_group('Fine_grain')['Thickness'].sum()/group_total_thickness\n",
    "            except KeyError:\n",
    "                fine_grain_pct = 0\n",
    "            try:\n",
    "                mix_grain_pct = rock_trans_grain_types.get_group('Mix_grain')['Thickness'].sum()/group_total_thickness\n",
    "            except KeyError:\n",
    "                mix_grain_pct = 0\n",
    "            try:\n",
    "                coarse_grain_pct = rock_trans_grain_types.get_group('Coarse_grain')['Thickness'].sum()/group_total_thickness\n",
    "            except KeyError:\n",
    "                coarse_grain_pct = 0\n",
    "            tmp_df = pd.DataFrame([dict(Bore=name,rho_fine=rho_fine,rho_coarse=rho_coarse,fine_grain = fine_grain_pct, mix_grain = mix_grain_pct, coarse_grain = coarse_grain_pct)])\n",
    "            concatlist2.append(tmp_df)\n",
    "rk_transform_lithology_pct = pd.concat(concatlist2)\n",
    "\n",
    "\n"
   ],
   "metadata": {
    "collapsed": false
   }
  },
  {
   "cell_type": "code",
   "execution_count": 9,
   "outputs": [
    {
     "data": {
      "text/plain": "                Bore  rho_fine  rho_coarse  fine_grain  mix_grain  \\\n0   0375002P00 27210         5          21         0.0   0.627536   \n0   0375002P00 27210         5          22         0.0   0.627536   \n0   0375002P00 27210         5          23         0.0   0.711422   \n0   0375002P00 27210         5          24         0.0   0.859365   \n0   0375002P00 27210         5          25         0.0   0.958307   \n..               ...       ...         ...         ...        ...   \n0               7344        19          45         0.0   0.437758   \n0               7344        19          46         0.0   0.460599   \n0               7344        19          47         0.0   0.460599   \n0               7344        19          48         0.0   0.460599   \n0               7344        19          49         0.0   0.460599   \n\n    coarse_grain  \n0       0.372464  \n0       0.372464  \n0       0.288578  \n0       0.140635  \n0       0.041693  \n..           ...  \n0       0.562242  \n0       0.539401  \n0       0.539401  \n0       0.539401  \n0       0.539401  \n\n[3045 rows x 6 columns]",
      "text/html": "<div>\n<style scoped>\n    .dataframe tbody tr th:only-of-type {\n        vertical-align: middle;\n    }\n\n    .dataframe tbody tr th {\n        vertical-align: top;\n    }\n\n    .dataframe thead th {\n        text-align: right;\n    }\n</style>\n<table border=\"1\" class=\"dataframe\">\n  <thead>\n    <tr style=\"text-align: right;\">\n      <th></th>\n      <th>Bore</th>\n      <th>rho_fine</th>\n      <th>rho_coarse</th>\n      <th>fine_grain</th>\n      <th>mix_grain</th>\n      <th>coarse_grain</th>\n    </tr>\n  </thead>\n  <tbody>\n    <tr>\n      <th>0</th>\n      <td>0375002P00 27210</td>\n      <td>5</td>\n      <td>21</td>\n      <td>0.0</td>\n      <td>0.627536</td>\n      <td>0.372464</td>\n    </tr>\n    <tr>\n      <th>0</th>\n      <td>0375002P00 27210</td>\n      <td>5</td>\n      <td>22</td>\n      <td>0.0</td>\n      <td>0.627536</td>\n      <td>0.372464</td>\n    </tr>\n    <tr>\n      <th>0</th>\n      <td>0375002P00 27210</td>\n      <td>5</td>\n      <td>23</td>\n      <td>0.0</td>\n      <td>0.711422</td>\n      <td>0.288578</td>\n    </tr>\n    <tr>\n      <th>0</th>\n      <td>0375002P00 27210</td>\n      <td>5</td>\n      <td>24</td>\n      <td>0.0</td>\n      <td>0.859365</td>\n      <td>0.140635</td>\n    </tr>\n    <tr>\n      <th>0</th>\n      <td>0375002P00 27210</td>\n      <td>5</td>\n      <td>25</td>\n      <td>0.0</td>\n      <td>0.958307</td>\n      <td>0.041693</td>\n    </tr>\n    <tr>\n      <th>...</th>\n      <td>...</td>\n      <td>...</td>\n      <td>...</td>\n      <td>...</td>\n      <td>...</td>\n      <td>...</td>\n    </tr>\n    <tr>\n      <th>0</th>\n      <td>7344</td>\n      <td>19</td>\n      <td>45</td>\n      <td>0.0</td>\n      <td>0.437758</td>\n      <td>0.562242</td>\n    </tr>\n    <tr>\n      <th>0</th>\n      <td>7344</td>\n      <td>19</td>\n      <td>46</td>\n      <td>0.0</td>\n      <td>0.460599</td>\n      <td>0.539401</td>\n    </tr>\n    <tr>\n      <th>0</th>\n      <td>7344</td>\n      <td>19</td>\n      <td>47</td>\n      <td>0.0</td>\n      <td>0.460599</td>\n      <td>0.539401</td>\n    </tr>\n    <tr>\n      <th>0</th>\n      <td>7344</td>\n      <td>19</td>\n      <td>48</td>\n      <td>0.0</td>\n      <td>0.460599</td>\n      <td>0.539401</td>\n    </tr>\n    <tr>\n      <th>0</th>\n      <td>7344</td>\n      <td>19</td>\n      <td>49</td>\n      <td>0.0</td>\n      <td>0.460599</td>\n      <td>0.539401</td>\n    </tr>\n  </tbody>\n</table>\n<p>3045 rows × 6 columns</p>\n</div>"
     },
     "execution_count": 9,
     "metadata": {},
     "output_type": "execute_result"
    }
   ],
   "source": [
    "rk_transform_lithology_pct"
   ],
   "metadata": {
    "collapsed": false
   }
  },
  {
   "cell_type": "code",
   "execution_count": 7,
   "outputs": [],
   "source": [
    "result_group = rk_transform_lithology_pct.groupby('Bore')\n"
   ],
   "metadata": {
    "collapsed": false
   }
  },
  {
   "cell_type": "code",
   "execution_count": 8,
   "outputs": [
    {
     "data": {
      "text/plain": "<pandas.core.groupby.generic.DataFrameGroupBy object at 0x000001FC0BF22F50>"
     },
     "execution_count": 8,
     "metadata": {},
     "output_type": "execute_result"
    }
   ],
   "source": [
    "result_group\n"
   ],
   "metadata": {
    "collapsed": false
   }
  },
  {
   "cell_type": "code",
   "execution_count": null,
   "outputs": [],
   "source": [
    "\n",
    "def method1(matched_ttem, matched_well):\n",
    "    for"
   ],
   "metadata": {
    "collapsed": false
   }
  },
  {
   "cell_type": "code",
   "execution_count": null,
   "outputs": [],
   "source": [
    "export"
   ],
   "metadata": {
    "collapsed": false
   }
  },
  {
   "cell_type": "code",
   "execution_count": null,
   "outputs": [],
   "source": [],
   "metadata": {
    "collapsed": false
   }
  }
 ],
 "metadata": {
  "kernelspec": {
   "display_name": "Python 3",
   "language": "python",
   "name": "python3"
  },
  "language_info": {
   "codemirror_mode": {
    "name": "ipython",
    "version": 2
   },
   "file_extension": ".py",
   "mimetype": "text/x-python",
   "name": "python",
   "nbconvert_exporter": "python",
   "pygments_lexer": "ipython2",
   "version": "2.7.6"
  }
 },
 "nbformat": 4,
 "nbformat_minor": 0
}
