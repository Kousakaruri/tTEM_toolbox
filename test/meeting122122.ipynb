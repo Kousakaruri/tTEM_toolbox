{
 "cells": [
  {
   "cell_type": "markdown",
   "source": [
    "# meeting 122122"
   ],
   "metadata": {
    "collapsed": false
   }
  },
  {
   "cell_type": "code",
   "execution_count": 1,
   "outputs": [
    {
     "data": {
      "text/html": "        <script type=\"text/javascript\">\n        window.PlotlyConfig = {MathJaxConfig: 'local'};\n        if (window.MathJax && window.MathJax.Hub && window.MathJax.Hub.Config) {window.MathJax.Hub.Config({SVG: {font: \"STIX-Web\"}});}\n        if (typeof require !== 'undefined') {\n        require.undef(\"plotly\");\n        requirejs.config({\n            paths: {\n                'plotly': ['https://cdn.plot.ly/plotly-2.20.0.min']\n            }\n        });\n        require(['plotly'], function(Plotly) {\n            window._Plotly = Plotly;\n        });\n        }\n        </script>\n        "
     },
     "metadata": {},
     "output_type": "display_data"
    }
   ],
   "source": [
    "import pathlib\n",
    "\n",
    "import pandas as pd\n",
    "from pathlib import Path\n",
    "import numpy as np\n",
    "import os\n",
    "from tTEM_toolbox import  process_well as pw\n",
    "link = Path(r'C:\\Users\\jldz9\\OneDrive - University of Missouri\\MST\\2022\\2022SS\\ArcGIS\\ttem_specs\\shapefile\\Usgs water well\\MartsonTable6.xlsx')\n",
    "import os\n",
    "import numpy as np\n",
    "import tTEM_toolbox as tt\n",
    "import pandas as pd\n",
    "import plotly.offline as po\n",
    "import plotly.graph_objects as go\n",
    "import plotly.express as px\n",
    "from pyproj import Transformer\n",
    "import pykrige as pk\n",
    "from plotly.offline import init_notebook_mode\n",
    "init_notebook_mode(connected = True)\n",
    "from pathlib import Path\n"
   ],
   "metadata": {
    "collapsed": false
   }
  },
  {
   "cell_type": "code",
   "execution_count": 2,
   "outputs": [],
   "source": [
    "workdir = Path(r'C:\\Users\\jldz9\\OneDrive - University of Missouri\\MST\\Code\\Python\\tTEM_test')\n",
    "well_info = r'C:\\Users\\jldz9\\OneDrive - University of Missouri\\MST\\Code\\Python\\tTEM_test\\well_Utah\\USGSdownload\\NWISMapperExport.xlsx'\n",
    "location = r\"C:\\Users\\jldz9\\OneDrive - University of Missouri\\MST\\Code\\Python\\Gamma\\location.csv\"\n",
    "welllog = workdir.joinpath(r'Plot_with_well_log\\Well_log.xlsx')\n",
    "elevation = workdir.joinpath(r'well_Utah\\usgs_water_elevation.csv')\n",
    "ttemname = workdir.joinpath(r'Plot_with_well_log\\PD1_I01_MOD.xyz')\n",
    "ttemname2 = workdir.joinpath(r'Plot_with_well_log\\PD22_I03_MOD.xyz')\n",
    "ttemlsl_file = workdir.joinpath(r'Plot_with_well_log\\lsll_I05_MOD.xyz')\n",
    "DOI = workdir.joinpath(r'Plot_with_well_log\\DOID1_DOIStaE.xyz')\n",
    "time = '2022-3'\n",
    "def splt_ttem(ttem_df, gwsurface_result):\n",
    "    def get_distance(group1, group2):\n",
    "        dis = np.sqrt((group1[0] - group2[0]) ** 2 + (group1[1] - group2[1]) ** 2)\n",
    "        return dis\n",
    "    abv_water_table = []\n",
    "    blw_water_table = []\n",
    "    ttem_groups = ttem_df.groupby(['UTMX', 'UTMY'])\n",
    "    well_location = gwsurface_result[['UTMX', 'UTMY']].values\n",
    "    for name, group in ttem_groups:\n",
    "        ttem_xy = list(group[['UTMX', 'UTMY']].iloc[0])\n",
    "        ttem_well_distance = list(map(lambda x: get_distance(ttem_xy, x), well_location))\n",
    "        match = gwsurface_result.iloc[ttem_well_distance.index(min(ttem_well_distance))]\n",
    "        elevation = match['water_elevation']\n",
    "        ttem_abv = group[group['Elevation_End'] >= elevation]\n",
    "        abv_water_table.append(ttem_abv)\n",
    "        ttem_blw = group[group['Elevation_End'] < elevation]\n",
    "        blw_water_table.append(ttem_blw)\n",
    "\n",
    "    ttem_above = pd.concat(abv_water_table)\n",
    "    ttem_below = pd.concat(blw_water_table)\n",
    "    return ttem_above, ttem_below\n",
    "def plot_bst(dataframe):\n",
    "    \"\"\"\n",
    "    plot bootstrap result\n",
    "\n",
    "    :param dataframe:\n",
    "    :return: plotly fig\n",
    "    \"\"\"\n",
    "    fig_hist = go.Figure()\n",
    "    fig_hist.data = []\n",
    "    fig_hist.add_trace(go.Histogram(x=dataframe.fine, name='Fine', marker_color='Blue', opacity=0.75))\n",
    "    fig_hist.add_trace(go.Histogram(x=dataframe.coarse, name='Coarse', marker_color='Red', opacity=0.75))\n",
    "    if dataframe.mix.sum() == 0:\n",
    "        print(\"skip plot mix because there is no data\")\n",
    "    else:\n",
    "        fig_hist.add_trace(go.Histogram(x=dataframe.mix, name='Mix', marker_color='Green', opacity=0.75))\n",
    "    fig_hist.update_layout(paper_bgcolor='white',plot_bgcolor='white',font_color='black')\n",
    "\n",
    "    return fig_hist\n",
    "def data_fence(ttem_df,xmin,ymin,xmax,ymax):\n",
    "    new_ttem_df = ttem_df[(ttem_df['UTMX']>xmin)&(ttem_df['UTMX']<xmax)&(ttem_df['UTMY']>ymin)&(ttem_df['UTMY']<ymax)]\n",
    "    return new_ttem_df"
   ],
   "metadata": {
    "collapsed": false
   }
  },
  {
   "cell_type": "markdown",
   "source": [
    "# example north compare"
   ],
   "metadata": {
    "collapsed": false
   }
  },
  {
   "cell_type": "code",
   "execution_count": 3,
   "outputs": [
    {
     "name": "stderr",
     "output_type": "stream",
     "text": [
      "Applying DOI |                                | 90/7968"
     ]
    },
    {
     "name": "stdout",
     "output_type": "stream",
     "text": [
      "Exclude layer []\n",
      "Exclude line []\n",
      "No point was excluded\n"
     ]
    },
    {
     "name": "stderr",
     "output_type": "stream",
     "text": [
      "Applying DOI |################################| 7968/7968\n"
     ]
    }
   ],
   "source": [
    "ttem_n = tt.main.ProcessTTEM(ttem_path=[ttemname2],\n",
    "                                   welllog=welllog,\n",
    "                                   DOI_path=DOI,\n",
    "                                    distance=1000\n",
    "                                   layer_exclude=[],\n",
    "                                    line_exclude=[])\n"
   ],
   "metadata": {
    "collapsed": false
   }
  },
  {
   "cell_type": "code",
   "execution_count": 4,
   "outputs": [],
   "source": [
    "a = ttem_n.data()"
   ],
   "metadata": {
    "collapsed": false
   }
  },
  {
   "cell_type": "code",
   "execution_count": null,
   "outputs": [],
   "source": [
    "pure_north_data = data_fence(ttem_n.data(),348718,4208611,351419,4213504)\n"
   ],
   "metadata": {
    "collapsed": false,
    "pycharm": {
     "is_executing": true
    }
   }
  },
  {
   "cell_type": "code",
   "execution_count": 141,
   "outputs": [],
   "source": [
    "fig = go.Figure(tt.plot.generate_trace(pure_north_data,'ttem'))\n",
    "fig.show(renderer='browser')"
   ],
   "metadata": {
    "collapsed": false
   }
  },
  {
   "cell_type": "code",
   "execution_count": null,
   "outputs": [],
   "source": [
    "water = tt.main.GWSurface(waterwell=well_info)"
   ],
   "metadata": {
    "collapsed": false,
    "pycharm": {
     "is_executing": true
    }
   }
  },
  {
   "cell_type": "code",
   "execution_count": 134,
   "outputs": [],
   "source": [
    "time = '2022-3'\n",
    "water_format = water.format(elevation=None, time=time)\n",
    "water_format13_3 =  water.format(elevation=None, time='2013-3')\n",
    "water_format12_11 = water.format(elevation=None, time='2012-11')\n",
    "elevation_diff12_13 = water_format12_11['sl_lev_va2012-11'].subtract(water_format13_3['sl_lev_va2013-3'])\n",
    "water_format['water_elevation'] = water_format['sl_lev_va2022-3'] + elevation_diff12_13"
   ],
   "metadata": {
    "collapsed": false
   }
  },
  {
   "cell_type": "code",
   "execution_count": 136,
   "outputs": [],
   "source": [
    "ttem_above_wt, ttem_below_wt = splt_ttem(pure_north_data, water_format)"
   ],
   "metadata": {
    "collapsed": false
   }
  },
  {
   "cell_type": "code",
   "execution_count": 138,
   "outputs": [
    {
     "name": "stdout",
     "output_type": "stream",
     "text": [
      "Reusing cached dataframe...\n",
      "No layer was excluded\n",
      "No line was excluded\n",
      "No point was excluded\n",
      "Will skip filterting DOI since no DOI file exist\n"
     ]
    },
    {
     "name": "stderr",
     "output_type": "stream",
     "text": [
      "Formating well logs |################################| 223/223\n",
      "Selecting closest ttem trace |################################| 223/223\n",
      "connecting ttem with well |################################| 6/6\n",
      "C:\\Users\\jldz9\\PycharmProjects\\tTEM_toolbox\\src\\tTEM_toolbox\\core\\bootstrap.py:185: FutureWarning:\n",
      "\n",
      "`rcond` parameter will change to the default of machine precision times ``max(M, N)`` where M and N are the input matrix dimensions.\n",
      "To use the future default and silence this warning we advise to pass `rcond=None`, to keep using the old, explicitly pass `rcond=-1`.\n",
      "\n"
     ]
    },
    {
     "name": "stdout",
     "output_type": "stream",
     "text": [
      "Total of 6 well with in radius (1000m), 217 skipped\n",
      "Bootstraping...\n",
      "Done!\n",
      "Reusing cached dataframe...\n",
      "No layer was excluded\n",
      "No line was excluded\n",
      "No point was excluded\n",
      "Will skip filterting DOI since no DOI file exist\n"
     ]
    },
    {
     "name": "stderr",
     "output_type": "stream",
     "text": [
      "Formating well logs |################################| 223/223\n",
      "Selecting closest ttem trace |################################| 223/223\n",
      "connecting ttem with well |################################| 6/6\n",
      "C:\\Users\\jldz9\\PycharmProjects\\tTEM_toolbox\\src\\tTEM_toolbox\\core\\bootstrap.py:185: FutureWarning:\n",
      "\n",
      "`rcond` parameter will change to the default of machine precision times ``max(M, N)`` where M and N are the input matrix dimensions.\n",
      "To use the future default and silence this warning we advise to pass `rcond=None`, to keep using the old, explicitly pass `rcond=-1`.\n",
      "\n"
     ]
    },
    {
     "name": "stdout",
     "output_type": "stream",
     "text": [
      "Total of 6 well with in radius (1000m), 217 skipped\n",
      "Bootstraping...\n",
      "Done!\n"
     ]
    }
   ],
   "source": [
    "bootstrap_above = tt.main.ProcessTTEM(ttem_path=ttem_above_wt, welllog=welllog)\n",
    "bootstrap_above_result = bootstrap_above.ttem_well_connect(distance=1000)\n",
    "bootstrap_below = tt.main.ProcessTTEM(ttem_path=ttem_below_wt, welllog=welllog)\n",
    "bootstrap_below_result = bootstrap_below.ttem_well_connect(distance=1000)"
   ],
   "metadata": {
    "collapsed": false
   }
  },
  {
   "cell_type": "code",
   "execution_count": 139,
   "outputs": [
    {
     "name": "stdout",
     "output_type": "stream",
     "text": [
      "skip plot mix because there is no data\n"
     ]
    }
   ],
   "source": [
    "fig_hist_ab = plot_bst(bootstrap_above_result[1])\n",
    "fig_hist_ab.show(renderer='browser')\n",
    "fig_hist_bl = plot_bst(bootstrap_below_result[1])\n",
    "fig_hist_bl.show(renderer='browser')"
   ],
   "metadata": {
    "collapsed": false
   }
  },
  {
   "cell_type": "code",
   "execution_count": null,
   "outputs": [],
   "source": [
    "import pathlib\n",
    "isinstance(welllog,pathlib.PosixPath)"
   ],
   "metadata": {
    "collapsed": false
   }
  },
  {
   "cell_type": "code",
   "execution_count": null,
   "outputs": [],
   "source": [
    "ttem_n_limit = data_fence(ttem_n.data(),348569,4208615,351224,4213346)"
   ],
   "metadata": {
    "collapsed": false
   }
  },
  {
   "cell_type": "code",
   "execution_count": null,
   "outputs": [],
   "source": [
    "ttem_n = tt.main.ProcessTTEM(ttem_path=ttem_n_limit,\n",
    "                                   welllog=welllog,\n",
    "                                   DOI_path=DOI,\n",
    "                                   layer_exclude=[],\n",
    "                                    line_exclude=[])"
   ],
   "metadata": {
    "collapsed": false
   }
  },
  {
   "cell_type": "code",
   "execution_count": 6,
   "outputs": [
    {
     "name": "stderr",
     "output_type": "stream",
     "text": [
      "Formating well logs |################################| 223/223\n",
      "Selecting closest ttem trace |################################| 223/223\n",
      "connecting ttem with well |###                             | 8/67"
     ]
    },
    {
     "name": "stdout",
     "output_type": "stream",
     "text": [
      "Total of 67 well with in radius (1000m), 156 skipped\n"
     ]
    },
    {
     "name": "stderr",
     "output_type": "stream",
     "text": [
      "connecting ttem with well |################################| 67/67\n",
      "C:\\Users\\jldz9\\PycharmProjects\\tTEM_toolbox\\src\\tTEM_toolbox\\core\\bootstrap.py:186: FutureWarning:\n",
      "\n",
      "`rcond` parameter will change to the default of machine precision times ``max(M, N)`` where M and N are the input matrix dimensions.\n",
      "To use the future default and silence this warning we advise to pass `rcond=None`, to keep using the old, explicitly pass `rcond=-1`.\n",
      "\n"
     ]
    },
    {
     "name": "stdout",
     "output_type": "stream",
     "text": [
      "Bootstraping...\n",
      "Done!\n"
     ]
    },
    {
     "data": {
      "text/plain": "(         ID  Line_No  Layer_No      UTMX       UTMY  Elevation_Cell  \\\n 0         1      100         1  340413.6  4197611.1         1742.79   \n 1         1      100         2  340413.6  4197611.1         1741.75   \n 2         1      100         3  340413.6  4197611.1         1740.61   \n 3         1      100         4  340413.6  4197611.1         1739.37   \n 4         1      100         5  340413.6  4197611.1         1738.03   \n ...     ...      ...       ...       ...        ...             ...   \n 91332  4119      240         9  339113.6  4196442.1         1737.60   \n 91333  4119      240        10  339113.6  4196442.1         1735.55   \n 91334  4119      240        11  339113.6  4196442.1         1733.32   \n 91335  4119      240        12  339113.6  4196442.1         1730.89   \n 91336  4119      240        13  339113.6  4196442.1         1728.25   \n \n        Resistivity  Resistivity_STD  Conductivity  Depth_top  Depth_bottom  \\\n 0            10.44            1.572       95.7854      0.000         1.000   \n 1            11.49            1.435       87.0322      1.000         2.088   \n 2            13.43            1.581       74.4602      2.088         3.272   \n 3            15.82            1.648       63.2111      3.272         4.560   \n 4            18.04            1.623       55.4324      4.560         5.962   \n ...            ...              ...           ...        ...           ...   \n 91332        33.20            1.633       30.1205     10.953        12.918   \n 91333        39.17            1.664       25.5297     12.918        15.056   \n 91334        41.07            1.687       24.3487     15.056        17.382   \n 91335        39.96            1.695       25.0250     17.382        19.913   \n 91336        37.30            1.686       26.8097     19.913        22.667   \n \n        Thickness  Thickness_STD  Elevation_End      Identity  Identity_n  \n 0          1.000          1.001       1741.790    Fine_grain           1  \n 1          1.088          1.001       1740.662    Fine_grain           1  \n 2          1.184          1.001       1739.426    Fine_grain           1  \n 3          1.288          1.001       1738.082    Fine_grain           1  \n 4          1.402          1.001       1736.628    Fine_grain           1  \n ...          ...            ...            ...           ...         ...  \n 91332      1.965          1.001       1735.635     Mix_grain           2  \n 91333      2.138          1.001       1733.412  Coarse_grain           3  \n 91334      2.326          1.001       1730.994  Coarse_grain           3  \n 91335      2.531          1.001       1728.359  Coarse_grain           3  \n 91336      2.754          1.001       1725.496  Coarse_grain           3  \n \n [91337 rows x 16 columns],\n           fine        mix     coarse\n 0    32.534796  35.216958  37.102402\n 1    30.720812  38.075787  37.633671\n 2    31.631373  37.804978  36.557318\n 3    29.612861  34.540528  40.308185\n 4    31.277504  40.338813  40.299493\n ..         ...        ...        ...\n 995  30.641807  36.215403  38.361918\n 996  29.534139  36.933061  39.576981\n 997  28.957962  33.252477  40.534067\n 998  30.823471  37.507598  39.823775\n 999  30.054839  35.799353  37.627653\n \n [1000 rows x 3 columns])"
     },
     "execution_count": 6,
     "metadata": {},
     "output_type": "execute_result"
    }
   ],
   "source": [
    "ttem_n.ttem_well_connect(distance=1000)"
   ],
   "metadata": {
    "collapsed": false
   }
  },
  {
   "cell_type": "code",
   "execution_count": 7,
   "outputs": [],
   "source": [
    "def resistivity_avg(ttem_df):\n",
    "    new_1d_df = []\n",
    "    coordinate_group = ttem_df.groupby(['UTMX','UTMY'])\n",
    "    for name, group in coordinate_group:\n",
    "        mean_resistivity = group['Resistivity'].mean()\n",
    "        output_df = {'UTMX':name[0],'UTMY':name[1],'Mean_Resistivity':mean_resistivity}\n",
    "        tmp_df = pd.DataFrame([output_df],index=None)\n",
    "        new_1d_df.append(tmp_df)\n",
    "    export_df = pd.concat(new_1d_df)\n",
    "    return  export_df"
   ],
   "metadata": {
    "collapsed": false
   }
  },
  {
   "cell_type": "code",
   "execution_count": 3,
   "outputs": [
    {
     "name": "stdout",
     "output_type": "stream",
     "text": [
      "Reusing cached dataframe...\n",
      "Exclude layer []\n",
      "Exclude line []\n",
      "No point was excluded\n",
      "Will skip filterting DOI since no DOI file exist\n"
     ]
    }
   ],
   "source": [
    "ttemlsl = pd.read_fwf(ttemlsl_file, skiprows=34)\n",
    "ttemlsl = ttemlsl.drop(columns=\"/\")\n",
    "ttemlsl = ttemlsl[ttemlsl.Thickness_STD != 9999]\n",
    "ttemlsl[\"Elevation_End\"] = ttemlsl[\"Elevation_Cell\"].subtract(ttemlsl[\"Thickness\"])\n",
    "ttem_lsl = tt.main.ProcessTTEM(ttem_path=ttemlsl,\n",
    "                                   welllog=welllog,\n",
    "\n",
    "                                   layer_exclude=[],\n",
    "                                    line_exclude=[])"
   ],
   "metadata": {
    "collapsed": false
   }
  },
  {
   "cell_type": "code",
   "execution_count": 4,
   "outputs": [],
   "source": [
    "ttem_lsl_data = ttem_lsl.data()\n"
   ],
   "metadata": {
    "collapsed": false
   }
  },
  {
   "cell_type": "code",
   "execution_count": 8,
   "outputs": [],
   "source": [
    "ttem_lsl_output = resistivity_avg(ttem_lsl_data)\n"
   ],
   "metadata": {
    "collapsed": false
   }
  },
  {
   "cell_type": "code",
   "execution_count": 10,
   "outputs": [],
   "source": [
    "ttem_lsl_output.to_csv(r'C:\\Users\\jldz9\\OneDrive - University of Missouri\\MST\\Code\\Python\\tTEM_test\\Plot_with_well_log\\ttem_little_salt_lake.csv')"
   ],
   "metadata": {
    "collapsed": false
   }
  },
  {
   "cell_type": "code",
   "execution_count": null,
   "outputs": [],
   "source": [
    "bootstrap_result=ttem_lsl.ttem_well_connect(distance=1000)"
   ],
   "metadata": {
    "collapsed": false,
    "pycharm": {
     "is_executing": true
    }
   }
  },
  {
   "cell_type": "code",
   "execution_count": 19,
   "outputs": [],
   "source": [
    "res_conf_df = tt.bootstrap.packup(bootstrap_result[1]['fine'],bootstrap_result[1]['mix'], bootstrap_result[1]['coarse'] )\n"
   ],
   "metadata": {
    "collapsed": false
   }
  },
  {
   "cell_type": "code",
   "execution_count": 13,
   "outputs": [],
   "source": [
    "rk_trans = tt.Rock_trans.rock_transform(bootstrap_result[0], res_conf_df)"
   ],
   "metadata": {
    "collapsed": false
   }
  },
  {
   "cell_type": "code",
   "execution_count": 23,
   "outputs": [
    {
     "data": {
      "text/plain": "0    1.396658\n1    3.435550\nName: Fine_conf, dtype: float64"
     },
     "execution_count": 23,
     "metadata": {},
     "output_type": "execute_result"
    }
   ],
   "source": [
    "res_conf_df['Fine_conf']"
   ],
   "metadata": {
    "collapsed": false
   }
  },
  {
   "cell_type": "code",
   "execution_count": 18,
   "outputs": [
    {
     "data": {
      "text/plain": "       ID  Line_No  Layer_No    UTMX     UTMY  Elevation_Cell  Resistivity  \\\n0       1      100         1  340413  4197616         1742.79       12.640   \n1       2      100         1  340413  4197619         1742.78       13.010   \n2       3      100         1  340414  4197622         1742.79       13.070   \n3       4      100         1  340415  4197625         1742.77       13.430   \n4       5      100         1  340417  4197627         1742.76       13.990   \n...    ..      ...       ...     ...      ...             ...          ...   \n79757  94      110        19  335017  4191667         1651.17        2.796   \n79758  95      110        19  335016  4191676         1651.17        2.810   \n79759  96      110        19  335014  4191685         1651.19        2.821   \n79760  97      110        19  335013  4191692         1651.18        2.830   \n79761  98      110        19  335012  4191700         1651.20        2.834   \n\n       Resistivity_STD  Conductivity  Depth_top  Depth_bottom  Thickness  \\\n0                 99.0       79.1139       0.00           1.0       1.00   \n1                 99.0       76.8639       0.00           1.0       1.00   \n2                 99.0       76.5111       0.00           1.0       1.00   \n3                 99.0       74.4602       0.00           1.0       1.00   \n4                 99.0       71.4796       0.00           1.0       1.00   \n...                ...           ...        ...           ...        ...   \n79757             99.0      357.6540     101.06         120.0      18.94   \n79758             99.0      355.8720     101.06         120.0      18.94   \n79759             99.0      354.4840     101.06         120.0      18.94   \n79760             99.0      353.3570     101.06         120.0      18.94   \n79761             99.0      352.8580     101.06         120.0      18.94   \n\n       Thickness_STD  Elevation_End      Identity  Identity_n  \n0               99.0        1741.79  Coarse_grain           3  \n1               99.0        1741.78  Coarse_grain           3  \n2               99.0        1741.79  Coarse_grain           3  \n3               99.0        1741.77  Coarse_grain           3  \n4               99.0        1741.76  Coarse_grain           3  \n...              ...            ...           ...         ...  \n79757           99.0        1632.23    Fine_grain           1  \n79758           99.0        1632.23    Fine_grain           1  \n79759           99.0        1632.25    Fine_grain           1  \n79760           99.0        1632.24    Fine_grain           1  \n79761           99.0        1632.26    Fine_grain           1  \n\n[79762 rows x 16 columns]",
      "text/html": "<div>\n<style scoped>\n    .dataframe tbody tr th:only-of-type {\n        vertical-align: middle;\n    }\n\n    .dataframe tbody tr th {\n        vertical-align: top;\n    }\n\n    .dataframe thead th {\n        text-align: right;\n    }\n</style>\n<table border=\"1\" class=\"dataframe\">\n  <thead>\n    <tr style=\"text-align: right;\">\n      <th></th>\n      <th>ID</th>\n      <th>Line_No</th>\n      <th>Layer_No</th>\n      <th>UTMX</th>\n      <th>UTMY</th>\n      <th>Elevation_Cell</th>\n      <th>Resistivity</th>\n      <th>Resistivity_STD</th>\n      <th>Conductivity</th>\n      <th>Depth_top</th>\n      <th>Depth_bottom</th>\n      <th>Thickness</th>\n      <th>Thickness_STD</th>\n      <th>Elevation_End</th>\n      <th>Identity</th>\n      <th>Identity_n</th>\n    </tr>\n  </thead>\n  <tbody>\n    <tr>\n      <th>0</th>\n      <td>1</td>\n      <td>100</td>\n      <td>1</td>\n      <td>340413</td>\n      <td>4197616</td>\n      <td>1742.79</td>\n      <td>12.640</td>\n      <td>99.0</td>\n      <td>79.1139</td>\n      <td>0.00</td>\n      <td>1.0</td>\n      <td>1.00</td>\n      <td>99.0</td>\n      <td>1741.79</td>\n      <td>Coarse_grain</td>\n      <td>3</td>\n    </tr>\n    <tr>\n      <th>1</th>\n      <td>2</td>\n      <td>100</td>\n      <td>1</td>\n      <td>340413</td>\n      <td>4197619</td>\n      <td>1742.78</td>\n      <td>13.010</td>\n      <td>99.0</td>\n      <td>76.8639</td>\n      <td>0.00</td>\n      <td>1.0</td>\n      <td>1.00</td>\n      <td>99.0</td>\n      <td>1741.78</td>\n      <td>Coarse_grain</td>\n      <td>3</td>\n    </tr>\n    <tr>\n      <th>2</th>\n      <td>3</td>\n      <td>100</td>\n      <td>1</td>\n      <td>340414</td>\n      <td>4197622</td>\n      <td>1742.79</td>\n      <td>13.070</td>\n      <td>99.0</td>\n      <td>76.5111</td>\n      <td>0.00</td>\n      <td>1.0</td>\n      <td>1.00</td>\n      <td>99.0</td>\n      <td>1741.79</td>\n      <td>Coarse_grain</td>\n      <td>3</td>\n    </tr>\n    <tr>\n      <th>3</th>\n      <td>4</td>\n      <td>100</td>\n      <td>1</td>\n      <td>340415</td>\n      <td>4197625</td>\n      <td>1742.77</td>\n      <td>13.430</td>\n      <td>99.0</td>\n      <td>74.4602</td>\n      <td>0.00</td>\n      <td>1.0</td>\n      <td>1.00</td>\n      <td>99.0</td>\n      <td>1741.77</td>\n      <td>Coarse_grain</td>\n      <td>3</td>\n    </tr>\n    <tr>\n      <th>4</th>\n      <td>5</td>\n      <td>100</td>\n      <td>1</td>\n      <td>340417</td>\n      <td>4197627</td>\n      <td>1742.76</td>\n      <td>13.990</td>\n      <td>99.0</td>\n      <td>71.4796</td>\n      <td>0.00</td>\n      <td>1.0</td>\n      <td>1.00</td>\n      <td>99.0</td>\n      <td>1741.76</td>\n      <td>Coarse_grain</td>\n      <td>3</td>\n    </tr>\n    <tr>\n      <th>...</th>\n      <td>...</td>\n      <td>...</td>\n      <td>...</td>\n      <td>...</td>\n      <td>...</td>\n      <td>...</td>\n      <td>...</td>\n      <td>...</td>\n      <td>...</td>\n      <td>...</td>\n      <td>...</td>\n      <td>...</td>\n      <td>...</td>\n      <td>...</td>\n      <td>...</td>\n      <td>...</td>\n    </tr>\n    <tr>\n      <th>79757</th>\n      <td>94</td>\n      <td>110</td>\n      <td>19</td>\n      <td>335017</td>\n      <td>4191667</td>\n      <td>1651.17</td>\n      <td>2.796</td>\n      <td>99.0</td>\n      <td>357.6540</td>\n      <td>101.06</td>\n      <td>120.0</td>\n      <td>18.94</td>\n      <td>99.0</td>\n      <td>1632.23</td>\n      <td>Fine_grain</td>\n      <td>1</td>\n    </tr>\n    <tr>\n      <th>79758</th>\n      <td>95</td>\n      <td>110</td>\n      <td>19</td>\n      <td>335016</td>\n      <td>4191676</td>\n      <td>1651.17</td>\n      <td>2.810</td>\n      <td>99.0</td>\n      <td>355.8720</td>\n      <td>101.06</td>\n      <td>120.0</td>\n      <td>18.94</td>\n      <td>99.0</td>\n      <td>1632.23</td>\n      <td>Fine_grain</td>\n      <td>1</td>\n    </tr>\n    <tr>\n      <th>79759</th>\n      <td>96</td>\n      <td>110</td>\n      <td>19</td>\n      <td>335014</td>\n      <td>4191685</td>\n      <td>1651.19</td>\n      <td>2.821</td>\n      <td>99.0</td>\n      <td>354.4840</td>\n      <td>101.06</td>\n      <td>120.0</td>\n      <td>18.94</td>\n      <td>99.0</td>\n      <td>1632.25</td>\n      <td>Fine_grain</td>\n      <td>1</td>\n    </tr>\n    <tr>\n      <th>79760</th>\n      <td>97</td>\n      <td>110</td>\n      <td>19</td>\n      <td>335013</td>\n      <td>4191692</td>\n      <td>1651.18</td>\n      <td>2.830</td>\n      <td>99.0</td>\n      <td>353.3570</td>\n      <td>101.06</td>\n      <td>120.0</td>\n      <td>18.94</td>\n      <td>99.0</td>\n      <td>1632.24</td>\n      <td>Fine_grain</td>\n      <td>1</td>\n    </tr>\n    <tr>\n      <th>79761</th>\n      <td>98</td>\n      <td>110</td>\n      <td>19</td>\n      <td>335012</td>\n      <td>4191700</td>\n      <td>1651.20</td>\n      <td>2.834</td>\n      <td>99.0</td>\n      <td>352.8580</td>\n      <td>101.06</td>\n      <td>120.0</td>\n      <td>18.94</td>\n      <td>99.0</td>\n      <td>1632.26</td>\n      <td>Fine_grain</td>\n      <td>1</td>\n    </tr>\n  </tbody>\n</table>\n<p>79762 rows × 16 columns</p>\n</div>"
     },
     "execution_count": 18,
     "metadata": {},
     "output_type": "execute_result"
    }
   ],
   "source": [
    "rk_trans"
   ],
   "metadata": {
    "collapsed": false
   }
  },
  {
   "cell_type": "code",
   "execution_count": 15,
   "outputs": [],
   "source": [
    "def lithology_pct(rock_transform_df):\n",
    "    \"\"\"\n",
    "    # Plan to group by the coordinate and generate a new dataframe with only [UTMX, UTMY]\n",
    "    \"\"\"\n",
    "    new_1d_df = []\n",
    "    coordinate_group = rock_transform_df.groupby(['UTMX','UTMY'])\n",
    "    for name, group in coordinate_group:\n",
    "        total_thickness_for_point = sum(group['Thickness'])\n",
    "        lithology_group = group.groupby('Identity')\n",
    "        try:\n",
    "            fine_grain_thickness = lithology_group.get_group('Fine_grain')['Thickness'].sum()\n",
    "        except KeyError:\n",
    "            fine_grain_thickness = 0\n",
    "        try:\n",
    "            mixed_grain_thickness = lithology_group.get_group('Mix_grain')['Thickness'].sum()\n",
    "        except KeyError:\n",
    "            mixed_grain_thickness = 0\n",
    "        try:\n",
    "            coarse_grain_thickness = lithology_group.get_group('Coarse_grain')['Thickness'].sum()\n",
    "        except KeyError:\n",
    "            coarse_grain_thickness = 0\n",
    "        tmp_df = pd.DataFrame([{'UTMX':name[0],\n",
    "                  'UTMY':name[1],\n",
    "                  'Fine grained ratio':fine_grain_thickness/float(total_thickness_for_point),\n",
    "                  'mixed_grain_thickness':mixed_grain_thickness/float(total_thickness_for_point),\n",
    "                  'coarse_grain_thickness':coarse_grain_thickness/float(total_thickness_for_point)}])\n",
    "\n",
    "        new_1d_df.append(tmp_df)\n",
    "    export = pd.concat(new_1d_df)\n",
    "    return export"
   ],
   "metadata": {
    "collapsed": false
   }
  },
  {
   "cell_type": "code",
   "execution_count": 17,
   "outputs": [],
   "source": [
    "export = lithology_pct(rk_trans)\n",
    "export.to_csv(r'C:\\Users\\jldz9\\OneDrive - University of Missouri\\MST\\Code\\Python\\tTEM_test\\Plot_with_well_log\\lsl_rk.csv')"
   ],
   "metadata": {
    "collapsed": false
   }
  },
  {
   "cell_type": "code",
   "execution_count": 149,
   "outputs": [],
   "source": [
    "fig_rk = go.Figure(tt.plot.generate_trace(rk_trans,'rock') )\n",
    "fig_rk.show(renderer='browser')"
   ],
   "metadata": {
    "collapsed": false
   }
  },
  {
   "cell_type": "code",
   "execution_count": null,
   "outputs": [],
   "source": [],
   "metadata": {
    "collapsed": false
   }
  },
  {
   "cell_type": "code",
   "execution_count": null,
   "outputs": [],
   "source": [
    "fig_2 = go.Figure(tt.plot.generate_trace(ttemlsl,'ttem'))\n",
    "trace = go.Figure(tt.plot.generate_trace(ttem_ct,'ttem'))\n",
    "fig_2.add_trace(trace.data[0])\n",
    "fig_2.show(renderer='browser')\n"
   ],
   "metadata": {
    "collapsed": false
   }
  },
  {
   "cell_type": "code",
   "execution_count": null,
   "outputs": [],
   "source": [],
   "metadata": {
    "collapsed": false
   }
  },
  {
   "cell_type": "code",
   "execution_count": null,
   "outputs": [],
   "source": [
    "trace.data[0]"
   ],
   "metadata": {
    "collapsed": false
   }
  },
  {
   "cell_type": "code",
   "execution_count": null,
   "outputs": [],
   "source": [
    "fig1 = go.Figure(tt.plot.generate_trace(ttem.data(),'ttem'))\n",
    "fig1.show(renderer='browser')"
   ],
   "metadata": {
    "collapsed": false
   }
  },
  {
   "cell_type": "code",
   "execution_count": null,
   "outputs": [],
   "source": [
    "trace2 = go.Scatter3d(x=ttemlsl.UTMX.values, y=ttemlsl.UTMY.values, z=ttemlsl.Elevation_Cell.values)\n",
    "fig_3 = go.Figure(trace2)"
   ],
   "metadata": {
    "collapsed": false
   }
  },
  {
   "cell_type": "code",
   "execution_count": null,
   "outputs": [],
   "source": [
    "fig_3.data"
   ],
   "metadata": {
    "collapsed": false
   }
  },
  {
   "cell_type": "code",
   "execution_count": null,
   "outputs": [],
   "source": [],
   "metadata": {
    "collapsed": false
   }
  }
 ],
 "metadata": {
  "kernelspec": {
   "display_name": "Python 3",
   "language": "python",
   "name": "python3"
  },
  "language_info": {
   "codemirror_mode": {
    "name": "ipython",
    "version": 2
   },
   "file_extension": ".py",
   "mimetype": "text/x-python",
   "name": "python",
   "nbconvert_exporter": "python",
   "pygments_lexer": "ipython2",
   "version": "2.7.6"
  }
 },
 "nbformat": 4,
 "nbformat_minor": 0
}
