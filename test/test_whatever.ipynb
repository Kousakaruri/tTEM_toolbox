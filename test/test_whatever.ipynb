{
 "cells": [
  {
   "cell_type": "code",
   "execution_count": 100,
   "metadata": {
    "collapsed": true
   },
   "outputs": [],
   "source": [
    "import pandas as pd\n",
    "from pathlib import Path\n",
    "\n",
    "workdir = Path(r'C:\\Users\\jldz9\\OneDrive - University of Missouri\\MST\\Code\\Python\\tTEM_test')\n",
    "ttemname_center = workdir.joinpath(r'Plot_with_well_log\\PD22_I03_MOD.xyz')\n",
    "ttem_center_raw = pd.read_table(ttemname_center,skiprows=26)\n",
    "raw_columns=ttem_center_raw.columns[0].split()[1:]\n",
    "ttem_df = pd.DataFrame(columns=raw_columns)"
   ]
  },
  {
   "cell_type": "code",
   "execution_count": 101,
   "outputs": [],
   "source": [
    "ttem_df[raw_columns] =ttem_center_raw[ttem_center_raw.columns[0]].str.split(expand=True)"
   ],
   "metadata": {
    "collapsed": false
   }
  },
  {
   "cell_type": "code",
   "execution_count": 103,
   "outputs": [
    {
     "data": {
      "text/plain": "ID                 object\nLine_No            object\nLayer_No           object\nUTMX               object\nUTMY               object\nElevation_Cell     object\nResistivity        object\nResistivity_STD    object\nConductivity       object\nDepth_top          object\nDepth_bottom       object\nThickness          object\nThickness_STD      object\ndtype: object"
     },
     "execution_count": 103,
     "metadata": {},
     "output_type": "execute_result"
    }
   ],
   "source": [
    "ttem_df.dtypes"
   ],
   "metadata": {
    "collapsed": false
   }
  },
  {
   "cell_type": "code",
   "execution_count": 95,
   "outputs": [
    {
     "data": {
      "text/plain": "['ID',\n 'Line_No',\n 'Layer_No',\n 'UTMX',\n 'UTMY',\n 'Elevation_Cell',\n 'Resistivity',\n 'Resistivity_STD',\n 'Conductivity',\n 'Depth_top',\n 'Depth_bottom',\n 'Thickness',\n 'Thickness_STD']"
     },
     "execution_count": 95,
     "metadata": {},
     "output_type": "execute_result"
    }
   ],
   "source": [
    "ttem_center_raw.columns[0].split()[1:]\n"
   ],
   "metadata": {
    "collapsed": false
   }
  },
  {
   "cell_type": "code",
   "execution_count": 55,
   "outputs": [
    {
     "data": {
      "text/plain": "   Number  Line_No  Layer_No      UTMX       UTMY  Elevation_Cell  Resistivity  Resistivity_STD  Conductivity    Depth_top  Depth_bottom    Thickness  Thickness_STD         2      100         1  340412.4  4197614.2...\nName: 1, dtype: object"
     },
     "execution_count": 55,
     "metadata": {},
     "output_type": "execute_result"
    }
   ],
   "source": [],
   "metadata": {
    "collapsed": false
   }
  },
  {
   "cell_type": "code",
   "execution_count": 4,
   "outputs": [
    {
     "ename": "AttributeError",
     "evalue": "'Histogram' object has no attribute 'bins'",
     "output_type": "error",
     "traceback": [
      "\u001B[1;31m---------------------------------------------------------------------------\u001B[0m",
      "\u001B[1;31mAttributeError\u001B[0m                            Traceback (most recent call last)",
      "Cell \u001B[1;32mIn[4], line 22\u001B[0m\n\u001B[0;32m     17\u001B[0m y_trend \u001B[38;5;241m=\u001B[39m \u001B[38;5;241m1\u001B[39m\u001B[38;5;241m/\u001B[39m(np\u001B[38;5;241m.\u001B[39msqrt(\u001B[38;5;241m2\u001B[39m \u001B[38;5;241m*\u001B[39m np\u001B[38;5;241m.\u001B[39mpi) \u001B[38;5;241m*\u001B[39m std) \u001B[38;5;241m*\u001B[39m np\u001B[38;5;241m.\u001B[39mexp(\u001B[38;5;241m-\u001B[39m\u001B[38;5;241m0.5\u001B[39m \u001B[38;5;241m*\u001B[39m ((x_range \u001B[38;5;241m-\u001B[39m mean) \u001B[38;5;241m/\u001B[39m std) \u001B[38;5;241m*\u001B[39m\u001B[38;5;241m*\u001B[39m \u001B[38;5;241m2\u001B[39m)\n\u001B[0;32m     19\u001B[0m \u001B[38;5;66;03m# Create the trend line trace\u001B[39;00m\n\u001B[0;32m     20\u001B[0m trend_trace \u001B[38;5;241m=\u001B[39m go\u001B[38;5;241m.\u001B[39mScatter(\n\u001B[0;32m     21\u001B[0m     x\u001B[38;5;241m=\u001B[39mx_range,\n\u001B[1;32m---> 22\u001B[0m     y\u001B[38;5;241m=\u001B[39my_trend \u001B[38;5;241m*\u001B[39m \u001B[38;5;28mlen\u001B[39m(x) \u001B[38;5;241m*\u001B[39m np\u001B[38;5;241m.\u001B[39mdiff(\u001B[43mhistogram_trace\u001B[49m\u001B[38;5;241;43m.\u001B[39;49m\u001B[43mbins\u001B[49m)[\u001B[38;5;241m0\u001B[39m],\n\u001B[0;32m     23\u001B[0m     mode\u001B[38;5;241m=\u001B[39m\u001B[38;5;124m'\u001B[39m\u001B[38;5;124mlines\u001B[39m\u001B[38;5;124m'\u001B[39m,\n\u001B[0;32m     24\u001B[0m     name\u001B[38;5;241m=\u001B[39m\u001B[38;5;124m'\u001B[39m\u001B[38;5;124mTrend line\u001B[39m\u001B[38;5;124m'\u001B[39m\n\u001B[0;32m     25\u001B[0m )\n\u001B[0;32m     27\u001B[0m \u001B[38;5;66;03m# Create the figure\u001B[39;00m\n\u001B[0;32m     28\u001B[0m fig \u001B[38;5;241m=\u001B[39m go\u001B[38;5;241m.\u001B[39mFigure(data\u001B[38;5;241m=\u001B[39m[histogram_trace, trend_trace])\n",
      "\u001B[1;31mAttributeError\u001B[0m: 'Histogram' object has no attribute 'bins'"
     ]
    }
   ],
   "source": [
    "import plotly.graph_objects as go\n",
    "import numpy as np\n",
    "\n",
    "# Generate some random data\n",
    "np.random.seed(42)\n",
    "x = np.random.normal(0, 1, 1000)\n",
    "\n",
    "# Create the histogram trace\n",
    "histogram_trace = go.Histogram(x=x, nbinsx=20)\n",
    "\n",
    "# Compute the mean and standard deviation of the data\n",
    "mean = np.mean(x)\n",
    "std = np.std(x)\n",
    "\n",
    "# Create the trend line data\n",
    "x_range = np.linspace(np.min(x), np.max(x), 100)\n",
    "y_trend = 1/(np.sqrt(2 * np.pi) * std) * np.exp(-0.5 * ((x_range - mean) / std) ** 2)\n",
    "\n",
    "# Create the trend line trace\n",
    "trend_trace = go.Scatter(\n",
    "    x=x_range,\n",
    "    y=y_trend * len(x) * np.diff(histogram_trace.bins)[0],\n",
    "    mode='lines',\n",
    "    name='Trend line'\n",
    ")\n",
    "\n",
    "# Create the figure\n",
    "fig = go.Figure(data=[histogram_trace, trend_trace])\n",
    "\n",
    "# Show the plot\n",
    "fig.show()\n"
   ],
   "metadata": {
    "collapsed": false
   }
  },
  {
   "cell_type": "code",
   "execution_count": 3,
   "outputs": [],
   "source": [
    "histogram_trace.y"
   ],
   "metadata": {
    "collapsed": false
   }
  },
  {
   "cell_type": "code",
   "execution_count": null,
   "outputs": [],
   "source": [],
   "metadata": {
    "collapsed": false,
    "pycharm": {
     "is_executing": true
    }
   }
  },
  {
   "cell_type": "code",
   "execution_count": 3,
   "outputs": [],
   "source": [],
   "metadata": {
    "collapsed": false
   }
  }
 ],
 "metadata": {
  "kernelspec": {
   "display_name": "Python 3",
   "language": "python",
   "name": "python3"
  },
  "language_info": {
   "codemirror_mode": {
    "name": "ipython",
    "version": 2
   },
   "file_extension": ".py",
   "mimetype": "text/x-python",
   "name": "python",
   "nbconvert_exporter": "python",
   "pygments_lexer": "ipython2",
   "version": "2.7.6"
  }
 },
 "nbformat": 4,
 "nbformat_minor": 0
}
