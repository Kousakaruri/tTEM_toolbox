{
 "cells": [
  {
   "cell_type": "code",
   "execution_count": null,
   "metadata": {
    "collapsed": true
   },
   "outputs": [],
   "source": [
    "import numpy as np"
   ]
  },
  {
   "cell_type": "code",
   "execution_count": null,
   "outputs": [],
   "source": [
    "#a = [1,2,3,4,5,6,7]\n",
    "a = np.arange(1,10,1)"
   ],
   "metadata": {
    "collapsed": false
   }
  },
  {
   "cell_type": "markdown",
   "source": [
    "### Function"
   ],
   "metadata": {
    "collapsed": false
   }
  },
  {
   "cell_type": "code",
   "execution_count": null,
   "outputs": [],
   "source": [
    "def whatevername(name='jiaweili', address='1234 street', phone_number='123456789'):\n",
    "    # 我要把这三个输入拼到一起\n",
    "    sentence = 'nameis '+name+' address is '+address+' phone_numberis '+phone_number\n",
    "    #我想把这个也打在屏幕上\n",
    "    #print(sentence)\n",
    "\n",
    "    return sentence\n",
    "def name2():\n",
    "    return"
   ],
   "metadata": {
    "collapsed": false
   }
  },
  {
   "cell_type": "code",
   "execution_count": null,
   "outputs": [],
   "source": [
    "np.()"
   ],
   "metadata": {
    "collapsed": false
   }
  },
  {
   "cell_type": "code",
   "execution_count": null,
   "outputs": [],
   "source": [
    "suibian = whatevername(name='pianpian',address='2345 st',phone_number='66666')"
   ],
   "metadata": {
    "collapsed": false
   }
  },
  {
   "cell_type": "markdown",
   "source": [
    "# loop"
   ],
   "metadata": {
    "collapsed": false
   }
  },
  {
   "cell_type": "markdown",
   "source": [
    "#### for loop"
   ],
   "metadata": {
    "collapsed": false
   }
  },
  {
   "cell_type": "code",
   "execution_count": null,
   "outputs": [],
   "source": [
    "a =[1,2,3,4,5,6,7,8]"
   ],
   "metadata": {
    "collapsed": false
   }
  },
  {
   "cell_type": "code",
   "execution_count": null,
   "outputs": [],
   "source": [
    "b=[i*2 for i in a]"
   ],
   "metadata": {
    "collapsed": false
   }
  },
  {
   "cell_type": "code",
   "execution_count": null,
   "outputs": [],
   "source": [
    "b"
   ],
   "metadata": {
    "collapsed": false
   }
  },
  {
   "cell_type": "code",
   "execution_count": null,
   "outputs": [],
   "source": [
    "for i in b:\n",
    "    tmp=i*4\n",
    "    print('{}*4 = '.format(i),tmp)"
   ],
   "metadata": {
    "collapsed": false
   }
  },
  {
   "cell_type": "markdown",
   "source": [
    "### while loop"
   ],
   "metadata": {
    "collapsed": false
   }
  },
  {
   "cell_type": "code",
   "execution_count": 4,
   "outputs": [
    {
     "ename": "NameError",
     "evalue": "name 'username' is not defined",
     "output_type": "error",
     "traceback": [
      "\u001B[1;31m---------------------------------------------------------------------------\u001B[0m",
      "\u001B[1;31mNameError\u001B[0m                                 Traceback (most recent call last)",
      "Cell \u001B[1;32mIn [4], line 3\u001B[0m\n\u001B[0;32m      1\u001B[0m \u001B[38;5;66;03m#username = 'a'\u001B[39;00m\n\u001B[0;32m      2\u001B[0m \u001B[38;5;66;03m#password = '123'\u001B[39;00m\n\u001B[1;32m----> 3\u001B[0m \u001B[38;5;28;01mif\u001B[39;00m \u001B[43musername\u001B[49m \u001B[38;5;241m==\u001B[39m \u001B[38;5;124m'\u001B[39m\u001B[38;5;124mai\u001B[39m\u001B[38;5;124m'\u001B[39m \u001B[38;5;129;01mand\u001B[39;00m password \u001B[38;5;241m==\u001B[39m \u001B[38;5;124m'\u001B[39m\u001B[38;5;124m123\u001B[39m\u001B[38;5;124m'\u001B[39m:\n\u001B[0;32m      4\u001B[0m     \u001B[38;5;28mprint\u001B[39m(\u001B[38;5;124m'\u001B[39m\u001B[38;5;124mcorrect website link\u001B[39m\u001B[38;5;124m'\u001B[39m)\n\u001B[0;32m      5\u001B[0m \u001B[38;5;28;01melif\u001B[39;00m username \u001B[38;5;241m==\u001B[39m \u001B[38;5;124m'\u001B[39m\u001B[38;5;124mai\u001B[39m\u001B[38;5;124m'\u001B[39m \u001B[38;5;129;01mand\u001B[39;00m password \u001B[38;5;241m!=\u001B[39m \u001B[38;5;124m'\u001B[39m\u001B[38;5;124m123\u001B[39m\u001B[38;5;124m'\u001B[39m:\n",
      "\u001B[1;31mNameError\u001B[0m: name 'username' is not defined"
     ]
    }
   ],
   "source": [
    "#username = 'a'\n",
    "#password = '123'\n",
    "if username == 'ai' and password == '123':\n",
    "    print('correct website link')\n",
    "elif username == 'ai' and password != '123':\n",
    "    print('re-type password link')\n",
    "else:\n",
    "    print('login link')\n",
    "a = 4\n",
    "b = 5\n",
    "print(a+b)"
   ],
   "metadata": {
    "collapsed": false
   }
  },
  {
   "cell_type": "code",
   "execution_count": 7,
   "outputs": [
    {
     "name": "stdout",
     "output_type": "stream",
     "text": [
      "You done have username and password\n",
      "9\n"
     ]
    }
   ],
   "source": [
    "try:\n",
    "    if username == 'ai' and password == '123':\n",
    "        print('correct website link')\n",
    "    elif username == 'ai' and password != '123':\n",
    "        print('re-type password link')\n",
    "    else:\n",
    "        print('login link')\n",
    "except NameError:\n",
    "    print('You done have username and password')\n",
    "a = 4\n",
    "b = 5\n",
    "print(a+b)\n"
   ],
   "metadata": {
    "collapsed": false
   }
  },
  {
   "cell_type": "code",
   "execution_count": 8,
   "outputs": [
    {
     "name": "stdout",
     "output_type": "stream",
     "text": [
      "wrong username & password\n",
      "correct website link\n"
     ]
    }
   ],
   "source": [
    "while True:\n",
    "    username = input('Username is')\n",
    "    password = input('password is')\n",
    "    if username == 'ai' and password == '123':\n",
    "        print('correct website link')\n",
    "        break\n",
    "    elif username == 'ai' and password != '123':\n",
    "        print('wrong password')\n",
    "        continue\n",
    "    else:\n",
    "        print('wrong username & password')\n",
    "        continue\n",
    "\n",
    "\n"
   ],
   "metadata": {
    "collapsed": false
   }
  },
  {
   "cell_type": "code",
   "execution_count": null,
   "outputs": [],
   "source": [],
   "metadata": {
    "collapsed": false
   }
  }
 ],
 "metadata": {
  "kernelspec": {
   "display_name": "Python 3",
   "language": "python",
   "name": "python3"
  },
  "language_info": {
   "codemirror_mode": {
    "name": "ipython",
    "version": 2
   },
   "file_extension": ".py",
   "mimetype": "text/x-python",
   "name": "python",
   "nbconvert_exporter": "python",
   "pygments_lexer": "ipython2",
   "version": "2.7.6"
  }
 },
 "nbformat": 4,
 "nbformat_minor": 0
}
