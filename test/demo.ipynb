{
 "cells": [
  {
   "cell_type": "code",
   "execution_count": null,
   "metadata": {
    "collapsed": true
   },
   "outputs": [],
   "source": []
  },
  {
   "cell_type": "code",
   "execution_count": 1,
   "outputs": [],
   "source": [
    "import numpy as np\n",
    "import geopandas\n",
    "import pandas as pd\n",
    "import geopandas as gpd\n",
    "import matplotlib.pyplot as plt\n",
    "from pathlib import Path\n",
    "import rasterio\n",
    "from rasterio.plot import show"
   ],
   "metadata": {
    "collapsed": false
   }
  },
  {
   "cell_type": "code",
   "execution_count": 133,
   "outputs": [],
   "source": [
    "path = Path(r'C:\\Users\\jldz9\\OneDrive - University of Missouri\\MST\\2022\\2022SS\\ArcGIS\\ttem_specs\\shapefile\\Usgs water well')\n",
    "df = pd.read_csv(path.joinpath('ParowanTable6.csv'))\n",
    "gdf = gpd.GeoDataFrame(df, geometry=geopandas.points_from_xy(df.long, df.lat))\n",
    "gdf = gdf.set_crs(epsg=4326)\n",
    "gdf = gdf.to_crs(epsg='32612')\n",
    "\n",
    "xmin = gdf.geometry.x.min()\n",
    "xmax = gdf.geometry.x.max()\n",
    "ymin = gdf.geometry.y.min()\n",
    "ymax = gdf.geometry.y.max()\n",
    "\n",
    "x = np.arange(xmin-5000,xmax+5000,5000)\n",
    "y = np.arange(ymin-5000,ymax+5000,5000)\n",
    "gx,gy= np.meshgrid(x,y)\n",
    "gz = np.full((y.shape[0], x.shape[0]),np.nan)"
   ],
   "metadata": {
    "collapsed": false
   }
  },
  {
   "cell_type": "code",
   "execution_count": 127,
   "outputs": [
    {
     "data": {
      "text/plain": "(26,)"
     },
     "execution_count": 127,
     "metadata": {},
     "output_type": "execute_result"
    }
   ],
   "source": [
    "x.shape"
   ],
   "metadata": {
    "collapsed": false
   }
  },
  {
   "cell_type": "code",
   "execution_count": 126,
   "outputs": [
    {
     "data": {
      "text/plain": "(31, 26)"
     },
     "execution_count": 126,
     "metadata": {},
     "output_type": "execute_result"
    }
   ],
   "source": [
    "gy.shape"
   ],
   "metadata": {
    "collapsed": false
   }
  },
  {
   "cell_type": "code",
   "execution_count": 125,
   "outputs": [
    {
     "data": {
      "text/plain": "(31, 26)"
     },
     "execution_count": 125,
     "metadata": {},
     "output_type": "execute_result"
    }
   ],
   "source": [
    "gx.shape"
   ],
   "metadata": {
    "collapsed": false
   }
  },
  {
   "cell_type": "code",
   "execution_count": 124,
   "outputs": [
    {
     "data": {
      "text/plain": "(31, 26)"
     },
     "execution_count": 124,
     "metadata": {},
     "output_type": "execute_result"
    }
   ],
   "source": [
    "gz.shape"
   ],
   "metadata": {
    "collapsed": false
   }
  },
  {
   "cell_type": "code",
   "execution_count": 134,
   "outputs": [
    {
     "data": {
      "text/plain": "5000.0"
     },
     "execution_count": 134,
     "metadata": {},
     "output_type": "execute_result"
    }
   ],
   "source": [
    "xres=x[1]-x[0]\n",
    "yres=y[1]-y[0]\n",
    "xres"
   ],
   "metadata": {
    "collapsed": false
   }
  },
  {
   "cell_type": "code",
   "execution_count": 135,
   "outputs": [],
   "source": [
    "for i in range(x.shape[0]):\n",
    "    for j in range(y.shape[0]):\n",
    "        tmp = gdf[(gdf.geometry.x<x[i]+xres/2)&(gdf.geometry.x>x[i]-xres/2)&(gdf.geometry.y<y[j]+yres/2)&(gdf.geometry.y>y[j]-yres/2)]\n",
    "        gz[j,i]=tmp['Residue mg/L'].mean()"
   ],
   "metadata": {
    "collapsed": false
   }
  },
  {
   "cell_type": "code",
   "execution_count": 130,
   "outputs": [
    {
     "data": {
      "text/plain": "array([[  nan,   nan,   nan,   nan,   nan,   nan,   nan,   nan,   nan,\n          nan,   nan,   nan,   nan,   nan,   nan,   nan,   nan,   nan,\n          nan,   nan,   nan,   nan,   nan,   nan,   nan,   nan],\n       [  nan, 333. ,   nan,   nan,   nan,   nan,   nan,   nan,   nan,\n          nan,   nan,   nan,   nan,   nan,   nan,   nan,   nan,   nan,\n          nan,   nan,   nan,   nan,   nan,   nan,   nan,   nan],\n       [  nan,   nan,   nan,   nan,   nan,   nan,   nan,   nan,   nan,\n          nan,   nan,   nan,   nan,   nan, 279. ,   nan,   nan,   nan,\n          nan,   nan,   nan,   nan,   nan,   nan,   nan,   nan],\n       [  nan,   nan,   nan,   nan,   nan,   nan,   nan,   nan,   nan,\n          nan,   nan,   nan,   nan,   nan,   nan,   nan,   nan,   nan,\n          nan,   nan,   nan,   nan,   nan,   nan,   nan,   nan],\n       [  nan,   nan,   nan, 295. ,   nan,   nan,   nan,   nan,   nan,\n          nan,   nan,   nan,   nan,   nan,   nan,   nan,   nan,   nan,\n          nan,   nan,   nan,   nan,   nan,   nan,   nan,   nan],\n       [  nan,   nan,   nan,   nan,   nan,   nan,   nan,   nan,   nan,\n          nan,   nan,   nan,   nan,   nan,   nan,   nan,   nan,   nan,\n          nan,   nan,   nan,   nan,   nan,   nan,   nan,   nan],\n       [  nan,   nan,   nan, 291. ,   nan,   nan,   nan,   nan,   nan,\n          nan,   nan,   nan,   nan,   nan, 427. ,   nan,   nan,   nan,\n          nan,   nan,   nan,   nan,   nan,   nan,   nan,   nan],\n       [  nan,   nan,   nan,   nan,   nan,   nan, 238. ,   nan,   nan,\n          nan,   nan,   nan,   nan,   nan,   nan,   nan,   nan,   nan,\n          nan,   nan,   nan,   nan,   nan,   nan,   nan,   nan],\n       [  nan,   nan,   nan,   nan, 246. ,   nan, 329. ,   nan,   nan,\n          nan,   nan,   nan, 346. ,   nan,   nan,   nan,   nan,   nan,\n          nan,   nan,   nan,   nan,   nan,   nan,   nan,   nan],\n       [  nan,   nan,   nan,   nan,   nan,   nan,   nan,   nan, 338. ,\n          nan, 289. ,   nan,   nan,   nan,   nan,   nan,   nan,   nan,\n          nan,   nan,   nan,   nan,   nan,   nan,   nan,   nan],\n       [  nan,   nan,   nan,   nan,   nan,   nan,   nan,   nan, 368. ,\n          nan,   nan,   nan,   nan,   nan,   nan, 397. ,   nan,   nan,\n          nan,   nan,   nan,   nan,   nan,   nan,   nan,   nan],\n       [  nan,   nan,   nan,   nan,   nan,   nan,   nan,   nan,   nan,\n          nan, 304. ,   nan,   nan,   nan, 353. ,   nan,   nan,   nan,\n          nan,   nan,   nan,   nan,   nan,   nan,   nan,   nan],\n       [  nan,   nan,   nan,   nan,   nan,   nan,   nan,   nan,   nan,\n          nan,   nan,   nan,   nan,   nan,   nan,   nan,   nan,   nan,\n          nan,   nan,   nan,   nan,   nan,   nan,   nan,   nan],\n       [  nan,   nan,   nan,   nan,   nan,   nan,   nan,   nan,   nan,\n        209. ,   nan,   nan,   nan,   nan,   nan,   nan,   nan,   nan,\n        301. ,   nan,   nan,   nan,   nan,   nan,   nan,   nan],\n       [  nan,   nan,   nan,   nan,   nan,   nan,   nan,   nan,   nan,\n          nan,   nan,   nan,   nan,   nan,   nan,   nan,   nan,   nan,\n          nan,   nan,   nan,   nan,   nan,   nan,   nan,   nan],\n       [  nan,   nan,   nan,   nan,   nan,   nan,   nan,   nan,   nan,\n          nan,   nan,   nan,   nan,   nan,   nan,   nan,   nan,   nan,\n          nan,   nan,   nan,   nan,   nan,   nan,   nan,   nan],\n       [  nan,   nan,   nan,   nan,   nan,   nan,   nan,   nan,   nan,\n          nan,   nan,   nan, 334. ,   nan,   nan,   nan,   nan,   nan,\n          nan, 295. ,   nan,   nan,   nan,   nan,   nan,   nan],\n       [  nan,   nan,   nan,   nan,   nan,   nan,   nan,   nan,   nan,\n          nan,   nan,   nan, 263. ,   nan,   nan,   nan,   nan,   nan,\n          nan,   nan,   nan,   nan,   nan,   nan,   nan,   nan],\n       [  nan,   nan,   nan,   nan,   nan,   nan,   nan,   nan,   nan,\n          nan,   nan,   nan,   nan,   nan, 548. ,   nan,   nan, 199. ,\n          nan,   nan,   nan,   nan,   nan,   nan,   nan,   nan],\n       [  nan,   nan,   nan,   nan,   nan,   nan,   nan,   nan,   nan,\n          nan,   nan,   nan,   nan,   nan,   nan,   nan,   nan,   nan,\n        142.5,   nan,   nan,   nan,   nan,   nan,   nan,   nan],\n       [  nan,   nan,   nan,   nan,   nan,   nan,   nan,   nan,   nan,\n          nan,   nan,   nan,   nan,   nan,   nan,   nan,   nan,   nan,\n          nan,   nan,   nan,   nan,   nan,   nan,   nan,   nan],\n       [  nan,   nan,   nan,   nan,   nan,   nan,   nan,   nan,   nan,\n          nan,   nan,   nan,   nan,   nan,   nan,   nan,   nan,   nan,\n          nan,   nan,   nan,   nan,   nan,   nan,   nan,   nan],\n       [  nan,   nan,   nan,   nan,   nan,   nan,   nan,   nan,   nan,\n          nan,   nan,   nan,   nan,   nan,   nan,   nan,   nan,   nan,\n          nan,   nan,   nan,   nan, 201. ,   nan,   nan,   nan],\n       [  nan,   nan,   nan,   nan,   nan,   nan,   nan,   nan,   nan,\n          nan,   nan,   nan,   nan,   nan,   nan,   nan,   nan,   nan,\n          nan,   nan,   nan,   nan,   nan,   nan,   nan,   nan],\n       [  nan,   nan,   nan,   nan,   nan,   nan,   nan,   nan,   nan,\n          nan,   nan,   nan,   nan,   nan,   nan,   nan,   nan,   nan,\n          nan,   nan,   nan,   nan, 221. ,   nan,   nan,   nan],\n       [  nan,   nan,   nan,   nan,   nan,   nan,   nan,   nan,   nan,\n          nan,   nan,   nan,   nan,   nan,   nan,   nan,   nan,   nan,\n          nan,   nan,   nan,   nan,   nan, 223. ,   nan,   nan],\n       [  nan,   nan,   nan,   nan,   nan,   nan,   nan,   nan,   nan,\n          nan,   nan,   nan,   nan,   nan,   nan,   nan,   nan,   nan,\n          nan,   nan,   nan,   nan,   nan,   nan, 253. ,   nan],\n       [  nan,   nan,   nan,   nan,   nan,   nan,   nan,   nan,   nan,\n          nan,   nan,   nan,   nan,   nan,   nan,   nan,   nan,   nan,\n          nan,   nan,   nan,   nan, 397. , 281. ,   nan,   nan],\n       [  nan,   nan,   nan,   nan,   nan,   nan,   nan,   nan,   nan,\n          nan,   nan,   nan,   nan,   nan,   nan,   nan,   nan,   nan,\n          nan,   nan,   nan,   nan,   nan, 342. , 580. ,   nan],\n       [  nan,   nan,   nan,   nan,   nan,   nan,   nan,   nan,   nan,\n          nan,   nan,   nan,   nan,   nan,   nan,   nan,   nan,   nan,\n          nan,   nan,   nan,   nan,   nan,   nan,   nan, 232. ],\n       [  nan,   nan,   nan,   nan,   nan,   nan,   nan,   nan,   nan,\n          nan,   nan,   nan,   nan,   nan,   nan,   nan,   nan,   nan,\n          nan,   nan,   nan,   nan,   nan,   nan,   nan,   nan]])"
     },
     "execution_count": 130,
     "metadata": {},
     "output_type": "execute_result"
    }
   ],
   "source": [
    "gz"
   ],
   "metadata": {
    "collapsed": false
   }
  },
  {
   "cell_type": "code",
   "execution_count": 136,
   "outputs": [],
   "source": [
    "transform=rasterio.Affine.translation(x[0]-xres/2,y[0]-yres/2)*rasterio.Affine.scale(xres,yres)\n",
    "with rasterio.open(\n",
    "    path.joinpath('parowantds.tif'),\n",
    "    'w',\n",
    "    driver='GTiff',\n",
    "    height=gz.shape[0],\n",
    "    width=gz.shape[1],\n",
    "    count=1,\n",
    "    dtype=gz.dtype,\n",
    "    crs=rasterio.CRS.from_epsg(32612),\n",
    "    transform=transform,\n",
    ") as dst:\n",
    "    dst.write(gz,1)"
   ],
   "metadata": {
    "collapsed": false
   }
  },
  {
   "cell_type": "code",
   "execution_count": 114,
   "outputs": [],
   "source": [
    "xx = np.linspace(-4.0, 4.0, 240)\n",
    "yy = np.linspace(-3.0, 3.0, 180)"
   ],
   "metadata": {
    "collapsed": false
   }
  },
  {
   "cell_type": "code",
   "execution_count": 119,
   "outputs": [
    {
     "data": {
      "text/plain": "0.03347280334728042"
     },
     "execution_count": 119,
     "metadata": {},
     "output_type": "execute_result"
    }
   ],
   "source": [
    "xx[1]-xx[0]\n"
   ],
   "metadata": {
    "collapsed": false
   }
  },
  {
   "cell_type": "code",
   "execution_count": 118,
   "outputs": [
    {
     "data": {
      "text/plain": "0.03351955307262555"
     },
     "execution_count": 118,
     "metadata": {},
     "output_type": "execute_result"
    }
   ],
   "source": [
    "yy[1]-yy[0]"
   ],
   "metadata": {
    "collapsed": false
   }
  },
  {
   "cell_type": "code",
   "execution_count": null,
   "outputs": [],
   "source": [],
   "metadata": {
    "collapsed": false
   }
  }
 ],
 "metadata": {
  "kernelspec": {
   "display_name": "Python 3",
   "language": "python",
   "name": "python3"
  },
  "language_info": {
   "codemirror_mode": {
    "name": "ipython",
    "version": 2
   },
   "file_extension": ".py",
   "mimetype": "text/x-python",
   "name": "python",
   "nbconvert_exporter": "python",
   "pygments_lexer": "ipython2",
   "version": "2.7.6"
  }
 },
 "nbformat": 4,
 "nbformat_minor": 0
}
