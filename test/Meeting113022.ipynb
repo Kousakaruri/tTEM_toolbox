{
 "cells": [
  {
   "cell_type": "code",
   "execution_count": 1,
   "metadata": {
    "collapsed": true
   },
   "outputs": [
    {
     "data": {
      "text/html": "        <script type=\"text/javascript\">\n        window.PlotlyConfig = {MathJaxConfig: 'local'};\n        if (window.MathJax && window.MathJax.Hub && window.MathJax.Hub.Config) {window.MathJax.Hub.Config({SVG: {font: \"STIX-Web\"}});}\n        if (typeof require !== 'undefined') {\n        require.undef(\"plotly\");\n        requirejs.config({\n            paths: {\n                'plotly': ['https://cdn.plot.ly/plotly-2.20.0.min']\n            }\n        });\n        require(['plotly'], function(Plotly) {\n            window._Plotly = Plotly;\n        });\n        }\n        </script>\n        "
     },
     "metadata": {},
     "output_type": "display_data"
    }
   ],
   "source": [
    "import pandas as pd\n",
    "from pathlib import Path\n",
    "import numpy as np\n",
    "import os\n",
    "from tTEM_toolbox import  process_well as pw\n",
    "link = Path(r'C:\\Users\\jldz9\\OneDrive - University of Missouri\\MST\\2022\\2022SS\\ArcGIS\\ttem_specs\\shapefile\\Usgs water well\\MartsonTable6.xlsx')\n",
    "import os\n",
    "import numpy as np\n",
    "import tTEM_toolbox as tt\n",
    "import pandas as pd\n",
    "import plotly.offline as po\n",
    "import plotly.graph_objects as go\n",
    "import plotly.express as px\n",
    "from pyproj import Transformer\n",
    "import pykrige as pk\n",
    "from plotly.offline import init_notebook_mode\n",
    "init_notebook_mode(connected = True)\n",
    "#import importlib\n",
    "#importlib.reload(tt.bootstrap)"
   ]
  },
  {
   "cell_type": "code",
   "execution_count": 2,
   "outputs": [],
   "source": [
    "os.chdir(r'C:\\Users\\jldz9\\OneDrive - University of Missouri\\MST\\Code\\Python\\tTEM_test\\well_Utah')\n",
    "well_info = r'C:\\Users\\jldz9\\OneDrive - University of Missouri\\MST\\Code\\Python\\tTEM_test\\well_Utah\\USGSdownload\\NWISMapperExport.xlsx'\n",
    "location = r\"C:\\Users\\jldz9\\OneDrive - University of Missouri\\MST\\Code\\Python\\Gamma\\location.csv\"\n",
    "welllog = r'C:\\Users\\jldz9\\OneDrive - University of Missouri\\MST\\Code\\Python\\tTEM_test\\Plot_with_well_log\\Well_log.xlsx'\n",
    "elevation = r'C:\\Users\\jldz9\\OneDrive - University of Missouri\\MST\\Code\\Python\\tTEM_test\\well_Utah\\usgs_water_elevation.csv'\n",
    "ttemname = r'C:\\Users\\jldz9\\OneDrive - University of Missouri\\MST\\Code\\Python\\tTEM_test\\Plot_with_well_log\\PD1_I01_MOD.xyz'\n",
    "ttemname2 = r'C:\\Users\\jldz9\\OneDrive - University of Missouri\\MST\\Code\\Python\\tTEM_test\\Plot_with_well_log\\PD22_I03_MOD.xyz'\n",
    "DOI = r'C:\\Users\\jldz9\\OneDrive - University of Missouri\\MST\\Code\\Python\\tTEM_test\\Plot_with_well_log\\DOID1_DOIStaE.xyz'\n",
    "time = '2022-3'\n",
    "def splt_ttem(ttem_df, gwsurface_result):\n",
    "    def get_distance(group1, group2):\n",
    "        dis = np.sqrt((group1[0] - group2[0]) ** 2 + (group1[1] - group2[1]) ** 2)\n",
    "        return dis\n",
    "    abv_water_table = []\n",
    "    blw_water_table = []\n",
    "    ttem_groups = ttem_df.groupby(['UTMX', 'UTMY'])\n",
    "    well_location = gwsurface_result[['UTMX', 'UTMY']].values\n",
    "    for name, group in ttem_groups:\n",
    "        ttem_xy = list(group[['UTMX', 'UTMY']].iloc[0])\n",
    "        ttem_well_distance = list(map(lambda x: get_distance(ttem_xy, x), well_location))\n",
    "        match = gwsurface_result.iloc[ttem_well_distance.index(min(ttem_well_distance))]\n",
    "        elevation = match['water_elevation']\n",
    "        ttem_abv = group[group['Elevation_End'] >= elevation]\n",
    "        abv_water_table.append(ttem_abv)\n",
    "        ttem_blw = group[group['Elevation_End'] < elevation]\n",
    "        blw_water_table.append(ttem_blw)\n",
    "\n",
    "    ttem_above = pd.concat(abv_water_table)\n",
    "    ttem_below = pd.concat(blw_water_table)\n",
    "    return ttem_above, ttem_below\n",
    "def plot_bst(dataframe):\n",
    "    \"\"\"\n",
    "    plot bootstrap result\n",
    "\n",
    "    :param dataframe:\n",
    "    :return: plotly fig\n",
    "    \"\"\"\n",
    "    fig_hist = go.Figure()\n",
    "    fig_hist.data = []\n",
    "    fig_hist.add_trace(go.Histogram(x=dataframe.fine, name='Fine', marker_color='Blue', opacity=0.75))\n",
    "    fig_hist.add_trace(go.Histogram(x=dataframe.coarse, name='Coarse', marker_color='Red', opacity=0.75))\n",
    "    if dataframe.mix.sum() == 0:\n",
    "        print(\"skip plot mix because there is no data\")\n",
    "    else:\n",
    "        fig_hist.add_trace(go.Histogram(x=dataframe.mix, name='Mix', marker_color='Green', opacity=0.75))\n",
    "    fig_hist.update_layout(paper_bgcolor='white',plot_bgcolor='white',font_color='black')\n",
    "\n",
    "    return fig_hist\n"
   ],
   "metadata": {
    "collapsed": false
   }
  },
  {
   "cell_type": "code",
   "execution_count": 3,
   "outputs": [
    {
     "name": "stdout",
     "output_type": "stream",
     "text": [
      "380248112413401\n",
      "380218112422001\n",
      "380218112421001\n",
      "380224112424901\n",
      "380117112422301\n",
      "380130112430501\n",
      "380131112431901\n",
      "380033112423101\n",
      "375949112431901\n",
      "375900112435900\n",
      "375722112462101\n",
      "375708112461101\n",
      "375628112465301\n",
      "375523112451902\n",
      "375402112455401\n",
      "375257112483501\n",
      "375628112485601\n",
      "375604112495901\n",
      "375548112500401\n",
      "375344112521601\n",
      "375303112512102\n",
      "375233112475701\n",
      "375112112551202\n",
      "375112112542701\n",
      "375204112530802\n",
      "375147112530001\n",
      "375144112512801\n",
      "375119112494701\n",
      "375024112542601\n",
      "374955112484901\n",
      "374753112485301\n",
      "375006112554801\n",
      "374846112560801\n",
      "374718112572902\n"
     ]
    }
   ],
   "source": [
    "usgs_no = pd.read_excel(link,header=None)\n",
    "df = pd.DataFrame()\n",
    "for i in range(15):\n",
    "    number = np.arange(i, usgs_no.shape[0],15)\n",
    "    tmp = usgs_no[usgs_no.index.isin(number)]\n",
    "    tmp.reset_index(inplace=True,drop=True)\n",
    "    df = pd.concat([df,tmp],axis=1,ignore_index=True)\n",
    "df.columns = ['USGSID','LocalID','Chloride mg/L','Fluoride mg/L','Iron ug/L','Magnesium mg/L','Manganese ug/L','Potassium mg/L','Silica mg/L', 'Sodium mg/L', 'Sulfate mg/L', 'Residue mg/L','Residue 1974 mg/L', 'Nitrate plus nitrite mg/L','Charge balance']\n",
    "lat = []\n",
    "long= []\n",
    "for i in df['USGSID']:\n",
    "    print(i)\n",
    "    _, metadata = pw.dl_usgs_water(str(i))\n",
    "    lat.append(metadata.lat)\n",
    "    long.append(metadata.long)\n",
    "df['lat'] = lat\n",
    "df['long'] = long"
   ],
   "metadata": {
    "collapsed": false
   }
  },
  {
   "cell_type": "code",
   "execution_count": 4,
   "outputs": [],
   "source": [
    "df.to_csv(link.parent.joinpath('ParowanTable6.csv'), index=False)"
   ],
   "metadata": {
    "collapsed": false
   }
  },
  {
   "cell_type": "code",
   "execution_count": 5,
   "outputs": [
    {
     "name": "stderr",
     "output_type": "stream",
     "text": [
      "C:\\Users\\jldz9\\anaconda3\\envs\\Research\\lib\\site-packages\\openpyxl\\worksheet\\header_footer.py:48: UserWarning:\n",
      "\n",
      "Cannot parse header or footer so it will be ignored\n",
      "\n"
     ]
    },
    {
     "name": "stdout",
     "output_type": "stream",
     "text": [
      "375033112561101 Done!\n",
      "375006112554801 Done!\n",
      "375112112551202 Done!\n",
      "375024112542601 Done!\n",
      "375152112541001 Done!\n",
      "375152112541001 not able to merge, try to solve the problem by drop duplicates.\n",
      "375127112530602 Done!\n",
      "375303112512102 Done!\n",
      "375338112502801 Done!\n",
      "375548112500401 Done!\n",
      "375153112500201 Done!\n",
      "375153112500201 not able to merge, try to solve the problem by drop duplicates.\n",
      "375443112495501 Done!\n",
      "375303112495102 Done!\n",
      "375233112475701 Done!\n",
      "375440112500001 Done!\n",
      "375402112455401 Done!\n",
      "375523112451902 Done!\n",
      "375915112442901 Done!\n",
      "380130112425201 Done!\n",
      "380033112423101 Done!\n",
      "All Wells Done!\n"
     ]
    }
   ],
   "source": [
    "water = tt.main.GWSurface(waterwell=well_info)"
   ],
   "metadata": {
    "collapsed": false
   }
  },
  {
   "cell_type": "code",
   "execution_count": 6,
   "outputs": [],
   "source": [
    "water_format = water.format(elevation=None, time=time)\n",
    "water_format13_3 =  water.format(elevation=None, time='2013-3')\n",
    "water_format12_11 = water.format(elevation=None, time='2012-11')\n",
    "elevation_diff12_13 = water_format12_11['sl_lev_va2012-11'].subtract(water_format13_3['sl_lev_va2013-3'])\n",
    "#water_format.dropna(inplace=True)\n",
    "water_format['water_elevation'] = water_format['sl_lev_va2022-3'].add(elevation_diff12_13)"
   ],
   "metadata": {
    "collapsed": false
   }
  },
  {
   "cell_type": "markdown",
   "source": [
    "### Rock trans for centeral Parowan"
   ],
   "metadata": {
    "collapsed": false
   }
  },
  {
   "cell_type": "code",
   "execution_count": 8,
   "outputs": [],
   "source": [
    "ttem = tt.main.ProcessTTEM(ttem_path=[ttemname2],\n",
    "                                   welllog=welllog,\n",
    "                                   DOI_path=DOI,\n",
    "                                   layer_exclude=[],\n",
    "                                    line_exclude=[])\n",
    "data = ttem.data()\n",
    "ttem_above_wt, ttem_below_wt = splt_ttem(data, water_format)\n",
    "bootstrap_above = tt.main.ProcessTTEM(ttem_path=ttem_above_wt, welllog=welllog)\n",
    "bootstrap_above_result = bootstrap_above.ttem_well_connect(distance=1000)\n",
    "bootstrap_below = tt.main.ProcessTTEM(ttem_path=ttem_below_wt, welllog=welllog)\n",
    "bootstrap_below_result = bootstrap_below.ttem_well_connect(distance=1000)\n",
    "fig_hist_ab = plot_bst(bootstrap_above_result[1])\n",
    "\n",
    "fig_hist_bl = plot_bst(bootstrap_below_result[1])\n",
    "\n"
   ],
   "metadata": {
    "collapsed": false
   }
  },
  {
   "cell_type": "code",
   "execution_count": null,
   "outputs": [],
   "source": [
    "\n",
    "fig_hist_ab.update_xaxes(title=dict(text='Resistivity ohm'))\n",
    "fig_hist_ab.update_yaxes(title=dict(text='Count'))\n",
    "fig_hist_bl.update_xaxes(title=dict(text='Resistivity ohm'))\n",
    "fig_hist_bl.update_yaxes(title=dict(text='Count'))\n",
    "fig_hist_ab.update_layout(title='Above Water Table')\n",
    "fig_hist_bl.update_layout(title='Below Water Table')\n",
    "fig_hist_ab.show(renderer='browser')\n",
    "fig_hist_bl.show(renderer='browser')"
   ],
   "metadata": {
    "collapsed": false
   }
  },
  {
   "cell_type": "code",
   "execution_count": null,
   "outputs": [],
   "source": [
    "res_conf_df = tt.bootstrap.packup(bootstrap_above_result[1]['fine'],bootstrap_above_result[1]['mix'], bootstrap_above_result[1]['coarse'] )\n",
    "\n",
    "res_conf_df_bl = tt.bootstrap.packup(bootstrap_below_result[1]['fine'],bootstrap_below_result[1]['mix'], bootstrap_below_result[1]['coarse'] )\n",
    "rk_trans_above = tt.Rock_trans.rock_transform(ttem_above_wt,res_conf_df)\n",
    "rk_trans_below = tt.Rock_trans.rock_transform(ttem_below_wt,res_conf_df_bl)\n",
    "rk_trans=pd.concat([rk_trans_above,rk_trans_below])\n",
    "fig_rk_trans = go.Figure(tt.plot.generate_trace(rk_trans,'rock'))\n",
    "fig_rk_trans.show(renderer='browser')\n"
   ],
   "metadata": {
    "collapsed": false
   }
  },
  {
   "cell_type": "code",
   "execution_count": 9,
   "outputs": [],
   "source": [
    "ttem_above_match, well_match = tt.bootstrap.select_closest(ttem_above_wt,tt.process_well.format_well(welllog, upscale=100),distance=1000,showskip=False)\n",
    "ttem_below_match, well_match = tt.bootstrap.select_closest(ttem_below_wt,tt.process_well.format_well(welllog, upscale=100),distance=1000,showskip=False)"
   ],
   "metadata": {
    "collapsed": false
   }
  },
  {
   "cell_type": "code",
   "execution_count": null,
   "outputs": [],
   "source": [
    "ratio_centeral = tt.Rock_trans.pct_count(rk_trans,grain='Fine_grain')\n",
    "ratio_centeral.to_csv(r'C:\\Users\\jldz9\\OneDrive - University of Missouri\\MST\\2022\\Paper\\meeting113022\\ratio_centeral.csv')"
   ],
   "metadata": {
    "collapsed": false
   }
  },
  {
   "cell_type": "code",
   "execution_count": null,
   "outputs": [],
   "source": [
    "fig_rk_trans.write_html(r'C:\\Users\\jldz9\\OneDrive - University of Missouri\\MST\\2022\\2022FS\\AGU presentation\\centralrk.html')"
   ],
   "metadata": {
    "collapsed": false
   }
  },
  {
   "cell_type": "code",
   "execution_count": null,
   "outputs": [],
   "source": [
    "ttem_above_match.shape"
   ],
   "metadata": {
    "collapsed": false
   }
  },
  {
   "cell_type": "code",
   "execution_count": null,
   "outputs": [],
   "source": [
    "ttem_below_match.shape"
   ],
   "metadata": {
    "collapsed": false
   }
  },
  {
   "cell_type": "code",
   "execution_count": null,
   "outputs": [],
   "source": [
    "res_conf_df"
   ],
   "metadata": {
    "collapsed": false
   }
  },
  {
   "cell_type": "code",
   "execution_count": null,
   "outputs": [],
   "source": [
    "res_conf_df_bl"
   ],
   "metadata": {
    "collapsed": false
   }
  },
  {
   "cell_type": "markdown",
   "source": [
    "### Rocktrans for northern Parowan"
   ],
   "metadata": {
    "collapsed": false
   }
  },
  {
   "cell_type": "code",
   "execution_count": null,
   "outputs": [],
   "source": [
    "ttem = tt.main.ProcessTTEM(ttem_path=[ttemname],\n",
    "                                   welllog=welllog,\n",
    "                                   DOI_path=DOI,\n",
    "                                   layer_exclude=[],\n",
    "                                    line_exclude=[0,100,110,120,130,140,150])\n",
    "data = ttem.data()\n",
    "ttem_above_wt, ttem_below_wt = splt_ttem(data, water_format)\n",
    "bootstrap_above = tt.main.ProcessTTEM(ttem_path=ttem_above_wt, welllog=welllog)\n",
    "bootstrap_above_result = bootstrap_above.ttem_well_connect(distance=1000)\n",
    "bootstrap_below = tt.main.ProcessTTEM(ttem_path=ttem_below_wt, welllog=welllog)\n",
    "bootstrap_below_result = bootstrap_below.ttem_well_connect(distance=1000)\n",
    "fig_hist_ab = plot_bst(bootstrap_above_result[1])\n",
    "fig_hist_ab.show()\n",
    "fig_hist_bl = plot_bst(bootstrap_below_result[1])\n",
    "fig_hist_bl.show()"
   ],
   "metadata": {
    "collapsed": false
   }
  },
  {
   "cell_type": "code",
   "execution_count": null,
   "outputs": [],
   "source": [
    "ttem = tt.main.ProcessTTEM(ttem_path=[ttemname],\n",
    "                                   welllog=welllog,\n",
    "                                   DOI_path=DOI,\n",
    "                                   layer_exclude=[],\n",
    "                                    line_exclude=[])\n",
    "data = ttem.data()\n",
    "ttem_above_wt, ttem_below_wt = splt_ttem(data, water_format)"
   ],
   "metadata": {
    "collapsed": false
   }
  },
  {
   "cell_type": "code",
   "execution_count": null,
   "outputs": [],
   "source": [
    "rk_trans_above = tt.Rock_trans.rock_transform(ttem_above_wt,res_conf_df)\n",
    "rk_trans_below = tt.Rock_trans.rock_transform(ttem_below_wt,res_conf_df_bl)\n",
    "rk_trans=pd.concat([rk_trans_above,rk_trans_below])\n",
    "fig_rk_trans = go.Figure(tt.plot.generate_trace(rk_trans,'rock'))\n",
    "fig_rk_trans.show(renderer='browser')"
   ],
   "metadata": {
    "collapsed": false
   }
  },
  {
   "cell_type": "code",
   "execution_count": null,
   "outputs": [],
   "source": [
    "fig_rk_trans.write_html(r'C:\\Users\\jldz9\\OneDrive - University of Missouri\\MST\\2022\\2022FS\\AGU presentation\\northernrk.html')"
   ],
   "metadata": {
    "collapsed": false
   }
  },
  {
   "cell_type": "code",
   "execution_count": null,
   "outputs": [],
   "source": [
    "ratio_north = tt.Rock_trans.pct_count(rk_trans,grain='Fine_grain')\n",
    "ratio_north.to_csv(r'C:\\Users\\jldz9\\OneDrive - University of Missouri\\MST\\2022\\Paper\\meeting113022\\rationorth.csv')"
   ],
   "metadata": {
    "collapsed": false
   }
  }
 ],
 "metadata": {
  "kernelspec": {
   "display_name": "Python 3",
   "language": "python",
   "name": "python3"
  },
  "language_info": {
   "codemirror_mode": {
    "name": "ipython",
    "version": 2
   },
   "file_extension": ".py",
   "mimetype": "text/x-python",
   "name": "python",
   "nbconvert_exporter": "python",
   "pygments_lexer": "ipython2",
   "version": "2.7.6"
  }
 },
 "nbformat": 4,
 "nbformat_minor": 0
}
