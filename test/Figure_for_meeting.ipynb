{
 "cells": [
  {
   "cell_type": "markdown",
   "source": [
    "## Generate Figure for Utah Meeting in Jan 9th 2023"
   ],
   "metadata": {
    "collapsed": false
   }
  },
  {
   "cell_type": "code",
   "execution_count": 1,
   "outputs": [
    {
     "data": {
      "text/html": "        <script type=\"text/javascript\">\n        window.PlotlyConfig = {MathJaxConfig: 'local'};\n        if (window.MathJax && window.MathJax.Hub && window.MathJax.Hub.Config) {window.MathJax.Hub.Config({SVG: {font: \"STIX-Web\"}});}\n        if (typeof require !== 'undefined') {\n        require.undef(\"plotly\");\n        requirejs.config({\n            paths: {\n                'plotly': ['https://cdn.plot.ly/plotly-2.14.0.min']\n            }\n        });\n        require(['plotly'], function(Plotly) {\n            window._Plotly = Plotly;\n        });\n        }\n        </script>\n        "
     },
     "metadata": {},
     "output_type": "display_data"
    }
   ],
   "source": [
    "from pathlib import Path\n",
    "import numpy as np\n",
    "import pandas as pd\n",
    "\n",
    "import tTEM_toolbox as tt\n",
    "import plotly.graph_objects as go\n",
    "import plotly.express as px\n",
    "from plotly.offline import init_notebook_mode\n",
    "init_notebook_mode(connected = True)\n",
    "import plotly.io as pio\n",
    "pio.kaleido.scope.chromium_args = tuple([arg for arg in pio.kaleido.scope.chromium_args if arg != \"--disable-dev-shm-usage\"])"
   ],
   "metadata": {
    "collapsed": false
   }
  },
  {
   "cell_type": "code",
   "execution_count": 2,
   "outputs": [],
   "source": [
    "workdir = Path(r'C:\\Users\\jldz9\\OneDrive - University of Missouri\\MST\\Code\\Python\\tTEM_test')\n",
    "welllog = workdir.joinpath(r'Plot_with_well_log\\Well_log.xlsx')\n",
    "elevation = workdir.joinpath(r'well_Utah\\usgs_water_elevation.csv')\n",
    "ttemname_north = workdir.joinpath(r'Plot_with_well_log\\PD1_I01_MOD.xyz')\n",
    "ttemname_center = workdir.joinpath(r'Plot_with_well_log\\PD22_I03_MOD.xyz')\n",
    "ttem_lslake = workdir.joinpath(r'Plot_with_well_log\\lsll_I05_MOD.xyz')\n",
    "DOI = workdir.joinpath(r'Plot_with_well_log\\DOID1_DOIStaE.xyz')\n",
    "well_info = workdir.joinpath(r'well_Utah\\USGSdownload\\NWISMapperExport.xlsx')\n",
    "colorRes = [[0, 'rgb(0,0,190)'],\n",
    "            [1 / 16, 'rgb(0,75,220)'],\n",
    "            [2 / 16, 'rgb(0,150,235)'],\n",
    "            [3 / 16, 'rgb(0,200,255)'],\n",
    "            [4 / 16, 'rgb(80,240,255)'],\n",
    "            [5 / 16, 'rgb(30,210,0)'],\n",
    "            [6 / 16, 'rgb(180,255,30)'],\n",
    "            [7 / 16, 'rgb(255,255,0)'],\n",
    "            [8 / 16, 'rgb(255,195,0)'],\n",
    "            [9 / 16, 'rgb(255,115,0)'],\n",
    "            [10 / 16, 'rgb(255,0,0)'],\n",
    "            [11 / 16, 'rgb(255,0,120)'],\n",
    "            [12 / 16, 'rgb(140,40,180)'],\n",
    "            [13 / 16, 'rgb(165,70,220)'],\n",
    "            [14 / 16, 'rgb(195,130,240)'],\n",
    "            [15 / 16, 'rgb(230,155,240)'],\n",
    "            [1, 'rgb(230,155,255)']]"
   ],
   "metadata": {
    "collapsed": false
   }
  },
  {
   "cell_type": "code",
   "execution_count": 3,
   "outputs": [],
   "source": [
    "def split_ttem(ttem_df, gwsurface_result):\n",
    "    def get_distance(group1, group2):\n",
    "        dis = np.sqrt((group1[0] - group2[0]) ** 2 + (group1[1] - group2[1]) ** 2)\n",
    "        return dis\n",
    "    abv_water_table = []\n",
    "    blw_water_table = []\n",
    "    ttem_groups = ttem_df.groupby(['UTMX', 'UTMY'])\n",
    "    well_location = gwsurface_result[['UTMX', 'UTMY']].values\n",
    "    for name, group in ttem_groups:\n",
    "        ttem_xy = list(group[['UTMX', 'UTMY']].iloc[0])\n",
    "        ttem_well_distance = list(map(lambda x: get_distance(ttem_xy, x), well_location))\n",
    "        match = gwsurface_result.iloc[ttem_well_distance.index(min(ttem_well_distance))]\n",
    "        elevation = match['water_elevation']\n",
    "        ttem_abv = group[group['Elevation_End'] >= elevation]\n",
    "        abv_water_table.append(ttem_abv)\n",
    "        ttem_blw = group[group['Elevation_End'] < elevation]\n",
    "        blw_water_table.append(ttem_blw)\n",
    "\n",
    "    ttem_above = pd.concat(abv_water_table)\n",
    "    ttem_below = pd.concat(blw_water_table)\n",
    "    return ttem_above, ttem_below\n",
    "def plot_bootstrap_result(dataframe):\n",
    "    \"\"\"\n",
    "    plot bootstrap result\n",
    "\n",
    "    :param dataframe:\n",
    "    :return: plotly fig\n",
    "    \"\"\"\n",
    "    fig_hist = go.Figure()\n",
    "    fig_hist.data = []\n",
    "    fig_hist.add_trace(go.Histogram(x=dataframe.fine, name='Fine', marker_color='Blue', opacity=0.75))\n",
    "    fig_hist.add_trace(go.Histogram(x=dataframe.coarse, name='Coarse', marker_color='Red', opacity=0.75))\n",
    "    if dataframe.mix.sum() == 0:\n",
    "        print(\"skip plot mix because there is no data\")\n",
    "    else:\n",
    "        fig_hist.add_trace(go.Histogram(x=dataframe.mix, name='Mix', marker_color='Green', opacity=0.75))\n",
    "    fig_hist.update_layout(paper_bgcolor='white',plot_bgcolor='white',font_color='black')\n",
    "\n",
    "    return fig_hist\n",
    "def data_fence(ttem_df,xmin,ymin,xmax,ymax):\n",
    "    if xmin>xmax:\n",
    "        raise ValueError('xmin:{} is greater than xmax:{}'.format(xmin,xmax))\n",
    "    if ymin>ymax:\n",
    "        raise ValueError('ymin:{} is greater than ymax:{}'.format(xmin,xmax))\n",
    "    new_ttem_df = ttem_df[(ttem_df['UTMX']>xmin)&(ttem_df['UTMX']<xmax)&(ttem_df['UTMY']>ymin)&(ttem_df['UTMY']<ymax)]\n",
    "    return new_ttem_df\n",
    "def filter_line(ttem_df, line_filter):\n",
    "        ttem_preprocess_line = ttem_df[ttem_df['Line_No'] == int(line_filter)]\n",
    "        if ttem_preprocess_line.empty:\n",
    "            raise ValueError('Did not found any data under line_no {}, the line number suppose to be integer'.format(line_filter))\n",
    "        return ttem_preprocess_line\n",
    "def resistivity_avg(ttem_df):\n",
    "    new_1d_df = []\n",
    "    coordinate_group = ttem_df.groupby(['UTMX','UTMY'])\n",
    "    for name, group in coordinate_group:\n",
    "        mean_resistivity = group['Resistivity'].mean()\n",
    "        output_df = {'UTMX':name[0],'UTMY':name[1],'Mean_Resistivity':mean_resistivity}\n",
    "        tmp_df = pd.DataFrame([output_df],index=None)\n",
    "        new_1d_df.append(tmp_df)\n",
    "    export_df = pd.concat(new_1d_df)\n",
    "    return  export_df\n",
    "def lithology_pct(rock_transform_df):\n",
    "    \"\"\"\n",
    "    # Plan to group by the coordinate and generate a new dataframe with only [UTMX, UTMY]\n",
    "    \"\"\"\n",
    "    new_1d_df = []\n",
    "    coordinate_group = rock_transform_df.groupby(['UTMX','UTMY'])\n",
    "    for name, group in coordinate_group:\n",
    "        total_thickness_for_point = sum(group['Thickness'])\n",
    "        lithology_group = group.groupby('Identity')\n",
    "        try:\n",
    "            fine_grain_thickness = lithology_group.get_group('Fine_grain')['Thickness'].sum()\n",
    "        except KeyError:\n",
    "            fine_grain_thickness = 0\n",
    "        try:\n",
    "            mixed_grain_thickness = lithology_group.get_group('Mix_grain')['Thickness'].sum()\n",
    "        except KeyError:\n",
    "            mixed_grain_thickness = 0\n",
    "        try:\n",
    "            coarse_grain_thickness = lithology_group.get_group('Coarse_grain')['Thickness'].sum()\n",
    "        except KeyError:\n",
    "            coarse_grain_thickness = 0\n",
    "        tmp_df = pd.DataFrame([{'UTMX':name[0],\n",
    "                  'UTMY':name[1],\n",
    "                  'Fine grained ratio':fine_grain_thickness/float(total_thickness_for_point),\n",
    "                  'mixed_grain_thickness':mixed_grain_thickness/float(total_thickness_for_point),\n",
    "                  'coarse_grain_thickness':coarse_grain_thickness/float(total_thickness_for_point)}])\n",
    "\n",
    "        new_1d_df.append(tmp_df)\n",
    "    export = pd.concat(new_1d_df)\n",
    "    return export\n",
    "def block_plot(ttem_df, line_filter=None, fence=None, plot_ft=True):\n",
    "\n",
    "    \"\"\"\n",
    "    This is the function that plot the given dataframe into gridded plot (for better looking)\n",
    "\n",
    "    :param ttem_df: a data frame contains tTEM data exported from Aarhus workbench\n",
    "    :param line_filter: In tTEM dataframe you can filter tTEM data by Line_No (default: None)\n",
    "    :param fence: receive a UTM coordinate to cut data, ex: [xmin, ymin, xmax, ymax] (default: None)\n",
    "    :param plot_ft: True: plot all parameter in feet, False: plot in meter (default: True)\n",
    "    :return:\n",
    "    \"\"\"\n",
    "    if line_filter is not None and fence is not None:\n",
    "        ttem_preprocess_line = filter_line(ttem_df,line_filter)\n",
    "        ttem_preprocess_fence = data_fence(ttem_preprocess_line,fence[0],fence[1],fence[2],fence[3])\n",
    "        ttem_preprocessed = ttem_preprocess_fence.copy()\n",
    "    elif line_filter is not None:\n",
    "        ttem_preprocess_line = filter_line(ttem_df,line_filter)\n",
    "        ttem_preprocessed = ttem_preprocess_line.copy()\n",
    "    elif fence is not None:\n",
    "        ttem_preprocess_fence = data_fence(ttem_df,fence[0],fence[1],fence[2],fence[3])\n",
    "        ttem_preprocessed = ttem_preprocess_fence.copy()\n",
    "    else:\n",
    "        ttem_preprocessed = ttem_df\n",
    "    if plot_ft is True:\n",
    "        m_to_ft_factor = 3.28\n",
    "        unit = 'ft'\n",
    "    else:\n",
    "        m_to_ft_factor = 1\n",
    "        unit = 'm'\n",
    "    ttem_preprocessed['distance'] = np.sqrt(ttem_preprocessed['UTMX']**2 + ttem_preprocessed['UTMY']**2)*m_to_ft_factor\n",
    "    ttem_preprocessed['Elevation_Cell'] = ttem_preprocessed['Elevation_Cell']*m_to_ft_factor\n",
    "    ttem_preprocessed['Elevation_End'] = ttem_preprocessed['Elevation_End']*m_to_ft_factor\n",
    "    distance_min = ttem_preprocessed['distance'].min()\n",
    "    elevation_max = ttem_preprocessed['Elevation_Cell'].max()\n",
    "    elevation_end_max = ttem_preprocessed['Elevation_End'].max()\n",
    "    ttem_preprocessed['distance_for_plot'] = ttem_preprocessed['distance'] - distance_min\n",
    "    ttem_preprocessed['Elevation_Cell_for_plot'] = ttem_preprocessed['Elevation_Cell'] - elevation_max\n",
    "    ttem_preprocessed['Elevation_End_for_plot'] = ttem_preprocessed['Elevation_End'] - elevation_end_max\n",
    "    ttem_for_plot = abs(ttem_preprocessed[['distance_for_plot', 'Resistivity','Elevation_Cell_for_plot','Elevation_End_for_plot']])\n",
    "    x_distance = ttem_for_plot['distance_for_plot'].max()\n",
    "    y_distance = ttem_for_plot['Elevation_End_for_plot'].max()\n",
    "    empty_grid = np.full((int((y_distance+10)*10),int(x_distance)),np.nan)\n",
    "# Fill in the tTEM data by loop through the grid\n",
    "    for index, line in ttem_for_plot.iterrows():\n",
    "        distance_round = int(line['distance_for_plot'])\n",
    "        elevation_cell_round = int(line['Elevation_Cell_for_plot'])\n",
    "        elevation_end_round = int(line['Elevation_End_for_plot'])\n",
    "        empty_grid[elevation_cell_round-3*m_to_ft_factor:elevation_end_round+3*m_to_ft_factor,distance_round:distance_round+6*m_to_ft_factor] = np.log10(line['Resistivity'])\n",
    "    fig = px.imshow(empty_grid, range_color=(0,3),color_continuous_scale=colorRes)\n",
    "    fig.update_layout(paper_bgcolor='white',plot_bgcolor='white',font_color='black')\n",
    "    fig.update_layout(\n",
    "        yaxis=dict(\n",
    "        title='Elevation ({})'.format(unit),\n",
    "        #tickmode='linear',\n",
    "        #tick0=1774,\n",
    "        #dtick=100\n",
    "    ),\n",
    "        xaxis=dict(\n",
    "        title='Distance ({})'.format(unit)\n",
    "    )\n",
    "    )\n",
    "    fig.update_layout(\n",
    "        dict(\n",
    "        xaxis=dict(\n",
    "            titlefont=dict(\n",
    "                family=\"Arial\",\n",
    "                size=50\n",
    "            ),\n",
    "            tickfont=dict(\n",
    "                family=\"Arial\",\n",
    "                size=45\n",
    "            )\n",
    "        ),\n",
    "        yaxis=dict(\n",
    "            titlefont=dict(\n",
    "                family=\"Arial\",\n",
    "                size=50\n",
    "            ),\n",
    "            tickfont=dict(\n",
    "                family=\"Arial\",\n",
    "                size=45\n",
    "            )\n",
    "        ),)\n",
    "    )\n",
    "    fig.update_coloraxes(\n",
    "        colorbar=dict(\n",
    "            ticks='outside',\n",
    "            title='Resistivity',\n",
    "            tickvals=[0,1,2,3],\n",
    "            tickfont=dict(\n",
    "                size=30\n",
    "            ),\n",
    "            ticktext=['1','10','100','1000'],\n",
    "            tickmode='array',\n",
    "            len=0.5))\n",
    "    \"\"\"fig.update_layout(\n",
    "        title=dict(\n",
    "            text='tTEM Line100, Northern Parowan Valley',\n",
    "        ),\n",
    "        titlefont=dict(\n",
    "            size=50\n",
    "        )\n",
    "    )\"\"\"\n",
    "    fig.show(renderer='browser')\n",
    "    return fig, ttem_for_plot"
   ],
   "metadata": {
    "collapsed": false
   }
  },
  {
   "cell_type": "code",
   "execution_count": null,
   "outputs": [],
   "source": [
    "fig, ttem_for_plot = block_plot(ttem_north_df,100)"
   ],
   "metadata": {
    "collapsed": false
   }
  },
  {
   "cell_type": "code",
   "execution_count": null,
   "outputs": [],
   "source": [
    "ttem_for_plot['Elevation_End_for_plot'].max()-ttem_for_plot['Elevation_Cell_for_plot'].min()"
   ],
   "metadata": {
    "collapsed": false
   }
  },
  {
   "cell_type": "code",
   "execution_count": null,
   "outputs": [],
   "source": [
    "fig.update_layout(\n",
    "        yaxis=dict(\n",
    "        #title='Elevation ({})'.format(unit),\n",
    "        tickmode='linear',\n",
    "        tick0=100,\n",
    "        dtick=500\n",
    "    ))"
   ],
   "metadata": {
    "collapsed": false
   }
  },
  {
   "cell_type": "code",
   "execution_count": 4,
   "outputs": [
    {
     "name": "stderr",
     "output_type": "stream",
     "text": [
      "Applying DOI |                                | 75/7968"
     ]
    },
    {
     "name": "stdout",
     "output_type": "stream",
     "text": [
      "No layer was excluded\n",
      "No line was excluded\n",
      "No point was excluded\n"
     ]
    },
    {
     "name": "stderr",
     "output_type": "stream",
     "text": [
      "Applying DOI |################################| 7968/7968\n"
     ]
    }
   ],
   "source": [
    "ttemall = tt.main.ProcessTTEM(ttem_path=[ttemname_north, ttemname_center],\n",
    "                                  welllog=welllog,\n",
    "                                  DOI_path=DOI)"
   ],
   "metadata": {
    "collapsed": false
   }
  },
  {
   "cell_type": "code",
   "execution_count": 5,
   "outputs": [],
   "source": [
    "ttem_all_data = ttemall.data()"
   ],
   "metadata": {
    "collapsed": false
   }
  },
  {
   "cell_type": "code",
   "execution_count": 12,
   "outputs": [],
   "source": [
    "mean_resistivity = resistivity_avg(ttem_all_data)"
   ],
   "metadata": {
    "collapsed": false
   }
  },
  {
   "cell_type": "code",
   "execution_count": 14,
   "outputs": [],
   "source": [
    "mean_resistivity.to_csv(workdir.joinpath('mean_resistivity.csv'))\n"
   ],
   "metadata": {
    "collapsed": false
   }
  },
  {
   "cell_type": "code",
   "execution_count": null,
   "outputs": [],
   "source": [
    "#I do not see any evidence of shallow aquifer present in the centeral Parowan in tTEM data, the water elevation would likely be potential surface. So I decided to not seperate the ttem data.\n",
    "ttem_center = tt.main.ProcessTTEM(ttem_path=[ttemname_north, ttemname_center],\n",
    "                                  welllog=welllog,\n",
    "                                  DOI_path=DOI)\n",
    "bootstrap=ttem_center.ttem_well_connect(distance=1000)\n",
    "resistivity_confidence_interval = tt.bootstrap.packup(bootstrap[1]['fine'],bootstrap[1]['mix'], bootstrap[1]['coarse'] )\n",
    "rock_transform_df = tt.Rock_trans.rock_transform(bootstrap[0],resistivity_confidence_interval)\n",
    "ttem_rock_trans_figure = go.Figure(tt.plot.generate_trace(rock_transform_df,'rock'))\n",
    "ttem_rock_trans_figure.show(renderer='browser')\n"
   ],
   "metadata": {
    "collapsed": false,
    "pycharm": {
     "is_executing": true
    }
   }
  },
  {
   "cell_type": "markdown",
   "source": [
    "# North part"
   ],
   "metadata": {
    "collapsed": false
   }
  },
  {
   "cell_type": "code",
   "execution_count": null,
   "outputs": [],
   "source": [
    "#Slice data\n",
    "ttem_north = tt.main.ProcessTTEM(ttem_path=[ttemname_north],\n",
    "                                  welllog=welllog,\n",
    "                                  DOI_path=DOI)\n",
    "ttem_north_df = ttem_north.data()\n",
    "ttem_north_df_line_100 = ttem_north_df[ttem_north_df['Line_No'] == 100]\n",
    "#ttem_north_df_data_fence = data_fence(ttem_north_df_line_100,349221,4209480,350118.90,4212995)\n",
    "#ttem_north_df_line_100 = ttem_north_df_data_fence.copy()\n",
    "#Normolize elevation and distance to let it start from zero\n",
    "ttem_north_df_line_100['distance'] = np.sqrt(ttem_north_df_line_100['UTMX']**2 + ttem_north_df_line_100['UTMY']**2)\n",
    "distance_min = ttem_north_df_line_100['distance'].min()\n",
    "elevation_max = ttem_north_df_line_100['Elevation_Cell'].max()\n",
    "elevation_end_max = ttem_north_df_line_100['Elevation_End'].max()\n",
    "ttem_north_df_line_100['distance'] = ttem_north_df_line_100['distance'] - distance_min\n",
    "ttem_north_df_line_100['Elevation_Cell'] = ttem_north_df_line_100['Elevation_Cell'] - elevation_max\n",
    "ttem_north_df_line_100['Elevation_End'] = ttem_north_df_line_100['Elevation_End'] - elevation_end_max\n",
    "ttem_north_df_for_plot = abs(ttem_north_df_line_100[['distance', 'Thickness','Resistivity','Elevation_Cell','Elevation_End']])\n"
   ],
   "metadata": {
    "collapsed": false,
    "pycharm": {
     "is_executing": true
    }
   }
  },
  {
   "cell_type": "code",
   "execution_count": null,
   "outputs": [],
   "source": [
    "block_plot(ttem_north_df,100)"
   ],
   "metadata": {
    "collapsed": false,
    "pycharm": {
     "is_executing": true
    }
   }
  },
  {
   "cell_type": "code",
   "execution_count": null,
   "outputs": [],
   "source": [
    "#create empty grid based on the length and height of the tTEM data\n",
    "x_distance = ttem_north_df_for_plot['distance'].max()\n",
    "y_distance = ttem_north_df_for_plot['Elevation_Cell'].max()\n",
    "empty_grid = np.full((int((y_distance+10)*10),int(x_distance)),np.nan)\n",
    "# Fill in the tTEM data by loop through the grid\n",
    "for index, line in ttem_north_df_for_plot.iterrows():\n",
    "    distance_round = int(line['distance']*3.28)\n",
    "    elevation_cell_round = int(line['Elevation_Cell']*10*3.28)\n",
    "    elevation_end_round = int(line['Elevation_End']*10*3.28)\n",
    "    empty_grid[elevation_cell_round-6:elevation_end_round+6,distance_round:distance_round+6] = np.log10(line['Resistivity'])"
   ],
   "metadata": {
    "collapsed": false
   }
  },
  {
   "cell_type": "code",
   "execution_count": null,
   "outputs": [],
   "source": [
    "import importlib; importlib.reload(tt.bootstrap)\n",
    "_, matched_well= tt.bootstrap.select_closest(ttem_north_df_line_100,welllog,distance=1000)\n",
    "matched_well['distance'] = np.sqrt(matched_well['UTMX']**2 + matched_well['UTMY']**2)\n",
    "matched_well['distance_for_plot'] = matched_well['distance'] - distance_min\n",
    "matched_well['Elevation_for_plot'] = matched_well['Elevation'] - elevation_max\n",
    "matched_well['Elevation_for_plot'] = abs(matched_well['Elevation_for_plot'])"
   ],
   "metadata": {
    "collapsed": false,
    "pycharm": {
     "is_executing": true
    }
   }
  },
  {
   "cell_type": "code",
   "execution_count": null,
   "outputs": [],
   "source": [
    "well13870=matched_well[matched_well['Bore'] == '13870']"
   ],
   "metadata": {
    "collapsed": false
   }
  },
  {
   "cell_type": "code",
   "execution_count": null,
   "outputs": [],
   "source": [
    "matched_well"
   ],
   "metadata": {
    "collapsed": false,
    "pycharm": {
     "is_executing": true
    }
   }
  },
  {
   "cell_type": "code",
   "execution_count": null,
   "outputs": [],
   "source": [
    "for index,line in well13870.iterrows():\n",
    "    distance = int(line['distance_for_plot']*3.28)\n",
    "    elevation = int(line['Elevation_for_plot']*10*3.28)\n",
    "    empty_grid[elevation-6:elevation+1+6,distance-15:distance+15] = line['Keyword_n']"
   ],
   "metadata": {
    "collapsed": false
   }
  },
  {
   "cell_type": "code",
   "execution_count": null,
   "outputs": [],
   "source": [
    "fig = px.imshow(empty_grid, range_color=(0,3),color_continuous_scale=colorRes)\n",
    "fig.update_layout(paper_bgcolor='white',plot_bgcolor='white',font_color='black')\n",
    "fig.update_layout(yaxis=dict(title='Elevation (m)',tickmode='array',\n",
    "                             tickvals=[0,100,200,300,400,500,600],\n",
    "                             ticktext=['1774','1764','1754','1744','1735','1725','1715']),\n",
    "                  xaxis=dict(title='Distance (m)'))\n",
    "fig.update_layout(\n",
    "    dict(\n",
    "    xaxis=dict(\n",
    "        titlefont=dict(\n",
    "            family=\"Arial\",\n",
    "            size=50\n",
    "        ),\n",
    "        tickfont=dict(\n",
    "            family=\"Arial\",\n",
    "            size=45\n",
    "        )\n",
    "    ),\n",
    "    yaxis=dict(\n",
    "        titlefont=dict(\n",
    "            family=\"Arial\",\n",
    "            size=50\n",
    "        ),\n",
    "        tickfont=dict(\n",
    "            family=\"Arial\",\n",
    "            size=45\n",
    "        )\n",
    "    ),)\n",
    ")\n",
    "fig.update_coloraxes(\n",
    "    colorbar=dict(\n",
    "        ticks='outside',\n",
    "        title='Resistivity',\n",
    "        tickvals=[0,1,2,3],\n",
    "        tickfont=dict(\n",
    "            size=30\n",
    "        ),\n",
    "        ticktext=['1','10','100','1000'],\n",
    "        tickmode='array',\n",
    "        len=0.5))\n",
    "\"\"\"fig.update_layout(\n",
    "    title=dict(\n",
    "        text='tTEM Line100, Northern Parowan Valley',\n",
    "    ),\n",
    "    titlefont=dict(\n",
    "        size=50\n",
    "    )\n",
    ")\"\"\"\n",
    "fig.show(renderer='browser')"
   ],
   "metadata": {
    "collapsed": false
   }
  },
  {
   "cell_type": "code",
   "execution_count": null,
   "outputs": [],
   "source": [
    "ttem_north_df_for_plot['Elevation_End'].max()-ttem_north_df_for_plot['Elevation_Cell'].min()"
   ],
   "metadata": {
    "collapsed": false
   }
  },
  {
   "cell_type": "code",
   "execution_count": null,
   "outputs": [],
   "source": [],
   "metadata": {
    "collapsed": false
   }
  }
 ],
 "metadata": {
  "kernelspec": {
   "display_name": "Python 3",
   "language": "python",
   "name": "python3"
  },
  "language_info": {
   "codemirror_mode": {
    "name": "ipython",
    "version": 2
   },
   "file_extension": ".py",
   "mimetype": "text/x-python",
   "name": "python",
   "nbconvert_exporter": "python",
   "pygments_lexer": "ipython2",
   "version": "2.7.6"
  }
 },
 "nbformat": 4,
 "nbformat_minor": 0
}
